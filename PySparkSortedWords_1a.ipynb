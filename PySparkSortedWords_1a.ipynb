{
  "nbformat": 4,
  "nbformat_minor": 0,
  "metadata": {
    "colab": {
      "provenance": [],
      "private_outputs": true,
      "include_colab_link": true
    },
    "kernelspec": {
      "name": "python3",
      "display_name": "Python 3"
    }
  },
  "cells": [
    {
      "cell_type": "markdown",
      "metadata": {
        "id": "view-in-github",
        "colab_type": "text"
      },
      "source": [
        "<a href=\"https://colab.research.google.com/github/cagBRT/PySpark/blob/master/PySparkSortedWords_1a.ipynb\" target=\"_parent\"><img src=\"https://colab.research.google.com/assets/colab-badge.svg\" alt=\"Open In Colab\"/></a>"
      ]
    },
    {
      "cell_type": "markdown",
      "source": [
        "This notebook uses PySpark to sort all the words in all of Shakespeare's works and all the words in Lincolns Gettysburg address. "
      ],
      "metadata": {
        "id": "uQqGo8AW-maX"
      }
    },
    {
      "cell_type": "code",
      "metadata": {
        "id": "fO32etdFU4oJ"
      },
      "source": [
        "!git clone https://github.com/cagBRT/PySpark.git"
      ],
      "execution_count": null,
      "outputs": []
    },
    {
      "cell_type": "markdown",
      "metadata": {
        "id": "3MDmH23O2bzN"
      },
      "source": [
        "# Setup PySpark"
      ]
    },
    {
      "cell_type": "code",
      "source": [
        "!pip install pyspark"
      ],
      "metadata": {
        "id": "O-JCwTBcC8rl"
      },
      "execution_count": null,
      "outputs": []
    },
    {
      "cell_type": "code",
      "metadata": {
        "id": "UPBTzKW-O5Vg"
      },
      "source": [
        "#Import SparkSession\n",
        "from pyspark.sql import SparkSession\n",
        "# Create a Spark Session\n",
        "#getOrCreate gets or creates a session\n",
        "spark = SparkSession.builder.master(\"local[*]\").getOrCreate()\n",
        "# Check Spark Session Information\n",
        "spark\n"
      ],
      "execution_count": null,
      "outputs": []
    },
    {
      "cell_type": "code",
      "metadata": {
        "id": "l7q3Yaww7gAK"
      },
      "source": [
        "import urllib.request\n",
        "from pyspark.sql import SparkSession\n",
        "from pyspark import SparkContext"
      ],
      "execution_count": null,
      "outputs": []
    },
    {
      "cell_type": "code",
      "source": [
        "spark = (\n",
        "    SparkSession.builder\n",
        "        .appName('learn')\n",
        "        .config('spark.driver.memory', '8g')\n",
        "        .master('local[4]',)\n",
        "        .config('spark.sql.execution.arrow.pyspark.enabled', True)\n",
        "        .config('spark.sql.execution.arrow.pyspark.fallback.enabled', False)\n",
        "        .getOrCreate()\n",
        ")"
      ],
      "metadata": {
        "id": "pZIHz0EuAxDt"
      },
      "execution_count": null,
      "outputs": []
    },
    {
      "cell_type": "code",
      "source": [
        "sc=spark.sparkContext.getOrCreate()"
      ],
      "metadata": {
        "id": "hSR7udpAA35w"
      },
      "execution_count": null,
      "outputs": []
    },
    {
      "cell_type": "code",
      "metadata": {
        "id": "t714VxFTVMRu"
      },
      "source": [
        "#Count the number of words in all of Shakespear's works\n",
        "Words=sc.textFile(\"/content/PySpark/shakespeare.txt\")\n",
        "Lincoln = sc.textFile(\"/content/PySpark/GettysBurg.txt\")\n",
        "WordsCount=Words.flatMap(lambda line: line.split(\" \")).map(lambda word: (word, 1))\n",
        "WordsCount.count()"
      ],
      "execution_count": null,
      "outputs": []
    },
    {
      "cell_type": "code",
      "metadata": {
        "id": "Z7AOlXXSn6jg"
      },
      "source": [
        "print(f\"The shape of all of Shakespeare works is {Words.count():d} lines\" )"
      ],
      "execution_count": null,
      "outputs": []
    },
    {
      "cell_type": "code",
      "metadata": {
        "id": "nYSUC-wdk5FC"
      },
      "source": [
        "print(type(Words))"
      ],
      "execution_count": null,
      "outputs": []
    },
    {
      "cell_type": "code",
      "metadata": {
        "id": "K7w1jZlpnG_T"
      },
      "source": [
        "print(type(Lincoln))"
      ],
      "execution_count": null,
      "outputs": []
    },
    {
      "cell_type": "code",
      "metadata": {
        "id": "BAp9gHXxnObZ"
      },
      "source": [
        "LincolnCount=Lincoln.flatMap(lambda line: line.split(\" \")).map(lambda word: (word, 1))\n",
        "LincolnCount.count()"
      ],
      "execution_count": null,
      "outputs": []
    },
    {
      "cell_type": "code",
      "metadata": {
        "id": "08KjxEuLVgC_"
      },
      "source": [
        "#Count the number of distinct words\n",
        "DistinctWordsCount=WordsCount.reduceByKey(lambda a,b: a+b)\n",
        "DistinctWordsCount.count()"
      ],
      "execution_count": null,
      "outputs": []
    },
    {
      "cell_type": "code",
      "metadata": {
        "id": "CfqeO-pJTS0b"
      },
      "source": [
        "#Sort the words by most-to-least words\n",
        "SortedWordsCount=DistinctWordsCount.map(lambda a: (a[1], a[0])).sortByKey()\n",
        "#print most frequent 20 words\n",
        "SortedWordsCount.top(20)\n"
      ],
      "execution_count": null,
      "outputs": []
    },
    {
      "cell_type": "code",
      "metadata": {
        "id": "5Aehq2C_V9zq"
      },
      "source": [
        "#number of words=1418390-(517065, '')=901325\n",
        "Sorted_final=SortedWordsCount.map(lambda a: (a[1], a[0]))\n",
        "Sorted_final.top(60)"
      ],
      "execution_count": null,
      "outputs": []
    },
    {
      "cell_type": "code",
      "metadata": {
        "id": "z8ey8vCP1-98"
      },
      "source": [
        "numAs = Words.filter(lambda s: 'a' in s).count()\n",
        "numBs = Words.filter(lambda s: 'b' in s).count()\n",
        "print (\"number of a's = \", numAs,\"\\n\",\"number of b's = \", numBs)"
      ],
      "execution_count": null,
      "outputs": []
    },
    {
      "cell_type": "markdown",
      "metadata": {
        "id": "pgsRAQDzUAF7"
      },
      "source": [
        "https://hogut.weebly.com/blog/word-count-in-apache-spark-at-google-colab"
      ]
    }
  ]
}