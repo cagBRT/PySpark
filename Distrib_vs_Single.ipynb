{
  "nbformat": 4,
  "nbformat_minor": 0,
  "metadata": {
    "colab": {
      "provenance": [],
      "include_colab_link": true
    },
    "kernelspec": {
      "name": "python3",
      "display_name": "Python 3"
    }
  },
  "cells": [
    {
      "cell_type": "markdown",
      "metadata": {
        "id": "view-in-github",
        "colab_type": "text"
      },
      "source": [
        "<a href=\"https://colab.research.google.com/github/cagBRT/PySpark/blob/master/Distrib_vs_Single.ipynb\" target=\"_parent\"><img src=\"https://colab.research.google.com/assets/colab-badge.svg\" alt=\"Open In Colab\"/></a>"
      ]
    },
    {
      "cell_type": "code",
      "metadata": {
        "id": "fO32etdFU4oJ",
        "colab": {
          "base_uri": "https://localhost:8080/"
        },
        "outputId": "d0718fae-125f-4214-bd61-8a4b87491dcc"
      },
      "source": [
        "!git clone https://github.com/cagBRT/PySpark.git"
      ],
      "execution_count": 2,
      "outputs": [
        {
          "output_type": "stream",
          "name": "stdout",
          "text": [
            "Cloning into 'PySpark'...\n",
            "remote: Enumerating objects: 390, done.\u001b[K\n",
            "remote: Counting objects: 100% (60/60), done.\u001b[K\n",
            "remote: Compressing objects: 100% (60/60), done.\u001b[K\n",
            "remote: Total 390 (delta 37), reused 0 (delta 0), pack-reused 330\u001b[K\n",
            "Receiving objects: 100% (390/390), 3.36 MiB | 13.50 MiB/s, done.\n",
            "Resolving deltas: 100% (235/235), done.\n"
          ]
        }
      ]
    },
    {
      "cell_type": "markdown",
      "source": [
        "\n",
        "\n",
        "---\n",
        "\n",
        "\n",
        "\n",
        "---\n",
        "\n"
      ],
      "metadata": {
        "id": "LL1ztsRp50_D"
      }
    },
    {
      "cell_type": "markdown",
      "metadata": {
        "id": "3MDmH23O2bzN"
      },
      "source": [
        "# Setup Spark"
      ]
    },
    {
      "cell_type": "code",
      "source": [
        "!pip install pyspark"
      ],
      "metadata": {
        "id": "O-JCwTBcC8rl",
        "colab": {
          "base_uri": "https://localhost:8080/"
        },
        "outputId": "5202cb80-29d4-4c77-ff46-36a59c39e673"
      },
      "execution_count": 3,
      "outputs": [
        {
          "output_type": "stream",
          "name": "stdout",
          "text": [
            "Collecting pyspark\n",
            "  Downloading pyspark-3.5.1.tar.gz (317.0 MB)\n",
            "\u001b[2K     \u001b[90m━━━━━━━━━━━━━━━━━━━━━━━━━━━━━━━━━━━━━━━━\u001b[0m \u001b[32m317.0/317.0 MB\u001b[0m \u001b[31m1.8 MB/s\u001b[0m eta \u001b[36m0:00:00\u001b[0m\n",
            "\u001b[?25h  Preparing metadata (setup.py) ... \u001b[?25l\u001b[?25hdone\n",
            "Requirement already satisfied: py4j==0.10.9.7 in /usr/local/lib/python3.10/dist-packages (from pyspark) (0.10.9.7)\n",
            "Building wheels for collected packages: pyspark\n",
            "  Building wheel for pyspark (setup.py) ... \u001b[?25l\u001b[?25hdone\n",
            "  Created wheel for pyspark: filename=pyspark-3.5.1-py2.py3-none-any.whl size=317488491 sha256=f68ff5c4f80079db13955e1bf7ff1fefdf78e2a0098d26645dcb7148ffdc2a0a\n",
            "  Stored in directory: /root/.cache/pip/wheels/80/1d/60/2c256ed38dddce2fdd93be545214a63e02fbd8d74fb0b7f3a6\n",
            "Successfully built pyspark\n",
            "Installing collected packages: pyspark\n",
            "Successfully installed pyspark-3.5.1\n"
          ]
        }
      ]
    },
    {
      "cell_type": "code",
      "metadata": {
        "id": "UPBTzKW-O5Vg",
        "colab": {
          "base_uri": "https://localhost:8080/",
          "height": 219
        },
        "outputId": "d8235682-7e0c-493a-ca92-35695aa713b5"
      },
      "source": [
        "#Import SparkSession\n",
        "from pyspark.sql import SparkSession\n",
        "# Create a Spark Session\n",
        "#getOrCreate gets or creates a session\n",
        "spark = SparkSession.builder.master(\"local[*]\").getOrCreate()\n",
        "# Check Spark Session Information\n",
        "spark"
      ],
      "execution_count": 4,
      "outputs": [
        {
          "output_type": "execute_result",
          "data": {
            "text/plain": [
              "<pyspark.sql.session.SparkSession at 0x7e768050a590>"
            ],
            "text/html": [
              "\n",
              "            <div>\n",
              "                <p><b>SparkSession - in-memory</b></p>\n",
              "                \n",
              "        <div>\n",
              "            <p><b>SparkContext</b></p>\n",
              "\n",
              "            <p><a href=\"http://5f857883ddc8:4040\">Spark UI</a></p>\n",
              "\n",
              "            <dl>\n",
              "              <dt>Version</dt>\n",
              "                <dd><code>v3.5.1</code></dd>\n",
              "              <dt>Master</dt>\n",
              "                <dd><code>local[*]</code></dd>\n",
              "              <dt>AppName</dt>\n",
              "                <dd><code>pyspark-shell</code></dd>\n",
              "            </dl>\n",
              "        </div>\n",
              "        \n",
              "            </div>\n",
              "        "
            ]
          },
          "metadata": {},
          "execution_count": 4
        }
      ]
    },
    {
      "cell_type": "code",
      "metadata": {
        "id": "l7q3Yaww7gAK"
      },
      "source": [
        "import urllib.request\n",
        "from pyspark.sql import SparkSession\n",
        "from pyspark import SparkContext"
      ],
      "execution_count": 5,
      "outputs": []
    },
    {
      "cell_type": "code",
      "source": [
        "spark = (\n",
        "    SparkSession.builder\n",
        "        .appName('learn')\n",
        "        .config('spark.driver.memory', '8g')\n",
        "        .master('local[4]',)\n",
        "        .config('spark.sql.execution.arrow.pyspark.enabled', True)\n",
        "        .config('spark.sql.execution.arrow.pyspark.fallback.enabled', False)\n",
        "        .getOrCreate()\n",
        ")"
      ],
      "metadata": {
        "id": "pZIHz0EuAxDt"
      },
      "execution_count": 6,
      "outputs": []
    },
    {
      "cell_type": "code",
      "source": [
        "sc=spark.sparkContext.getOrCreate()"
      ],
      "metadata": {
        "id": "XDuwRrjxdSy3"
      },
      "execution_count": 7,
      "outputs": []
    },
    {
      "cell_type": "markdown",
      "source": [
        "\n",
        "\n",
        "---\n",
        "\n",
        "\n",
        "\n",
        "---\n",
        "\n"
      ],
      "metadata": {
        "id": "nk_RtYtu5zTk"
      }
    },
    {
      "cell_type": "markdown",
      "metadata": {
        "id": "RFM0W26B0EGe"
      },
      "source": [
        "# Get all of Shakespeare’s works"
      ]
    },
    {
      "cell_type": "code",
      "metadata": {
        "id": "oO4bQVsN0hfn"
      },
      "source": [
        "import time"
      ],
      "execution_count": 8,
      "outputs": []
    },
    {
      "cell_type": "markdown",
      "source": [
        "**Let's find out how long it takes a distributed computer to perform the task of counting all the words in Shakespeare's works**."
      ],
      "metadata": {
        "id": "X2hQcaUR4mXQ"
      }
    },
    {
      "cell_type": "code",
      "metadata": {
        "id": "t714VxFTVMRu",
        "colab": {
          "base_uri": "https://localhost:8080/"
        },
        "outputId": "1407f567-97c2-44cf-d70b-06b90cb99554"
      },
      "source": [
        "start_time = time.time()\n",
        "#Count the number of words in all of Shakespear's works\n",
        "Words=sc.textFile(\"/content/PySpark/shakespeare.txt\")\n",
        "WordsCount=Words.flatMap(lambda line: line.split(\" \")).map(lambda word: (word, 1))\n",
        "print(\"--- %s seconds ---\" % (time.time() - start_time))\n",
        "dc_time=time.time() - start_time\n",
        "WordsCount.count()"
      ],
      "execution_count": 17,
      "outputs": [
        {
          "output_type": "stream",
          "name": "stdout",
          "text": [
            "--- 0.07819986343383789 seconds ---\n"
          ]
        },
        {
          "output_type": "execute_result",
          "data": {
            "text/plain": [
              "1418390"
            ]
          },
          "metadata": {},
          "execution_count": 17
        }
      ]
    },
    {
      "cell_type": "markdown",
      "source": [
        "**Let's find out how long it takes a *single computer* to perform the task of counting all the words in Shakespeare's works**."
      ],
      "metadata": {
        "id": "j_xA3Wqa46jz"
      }
    },
    {
      "cell_type": "code",
      "source": [
        "start_time = time.time()\n",
        "f= open(\"/content/PySpark/shakespeare.txt\", \"r\")\n",
        "words_shakes= f.read()\n",
        "f.close()\n",
        "word_shakes_python=words_shakes.split(\" \")\n",
        "print(\"--- %s seconds ---\" % (time.time() - start_time))\n",
        "sc_time=time.time() - start_time\n",
        "len(word_shakes_python)"
      ],
      "metadata": {
        "id": "xUfXBwygdi8G",
        "colab": {
          "base_uri": "https://localhost:8080/"
        },
        "outputId": "f503c8e3-a200-4c1e-f037-cc77fb04a750"
      },
      "execution_count": 18,
      "outputs": [
        {
          "output_type": "stream",
          "name": "stdout",
          "text": [
            "--- 0.1267104148864746 seconds ---\n"
          ]
        },
        {
          "output_type": "execute_result",
          "data": {
            "text/plain": [
              "1293935"
            ]
          },
          "metadata": {},
          "execution_count": 18
        }
      ]
    },
    {
      "cell_type": "code",
      "source": [
        "print(\"distributed time:    \",dc_time )\n",
        "print(\"single compute time: \", sc_time)"
      ],
      "metadata": {
        "colab": {
          "base_uri": "https://localhost:8080/"
        },
        "id": "WVTC6U7T5HjA",
        "outputId": "d507c695-67ce-4d64-a1e0-9506bd6530b2"
      },
      "execution_count": 19,
      "outputs": [
        {
          "output_type": "stream",
          "name": "stdout",
          "text": [
            "distributed time:     0.07841944694519043\n",
            "single compute time:  0.1269824504852295\n"
          ]
        }
      ]
    },
    {
      "cell_type": "code",
      "metadata": {
        "id": "08KjxEuLVgC_",
        "colab": {
          "base_uri": "https://localhost:8080/"
        },
        "outputId": "9c875845-36f7-43f3-8486-1e577f4fd4c3"
      },
      "source": [
        "start_time = time.time()\n",
        "#Count the number of distinct words\n",
        "DistinctWordsCount=WordsCount.reduceByKey(lambda a,b: a+b)\n",
        "print(\"--- %s seconds ---\" % (time.time() - start_time))\n",
        "dc_time=time.time() - start_time\n",
        "DistinctWordsCount.count()"
      ],
      "execution_count": 22,
      "outputs": [
        {
          "output_type": "stream",
          "name": "stdout",
          "text": [
            "--- 0.034563302993774414 seconds ---\n"
          ]
        },
        {
          "output_type": "execute_result",
          "data": {
            "text/plain": [
              "67506"
            ]
          },
          "metadata": {},
          "execution_count": 22
        }
      ]
    },
    {
      "cell_type": "code",
      "source": [
        "start_time = time.time()\n",
        "words_unique=set(word_shakes_python)\n",
        "print(\"--- %s seconds ---\" % (time.time() - start_time))\n",
        "sc_time=time.time() - start_time\n",
        "len(words_unique)"
      ],
      "metadata": {
        "id": "mCtSCtPmebyK",
        "colab": {
          "base_uri": "https://localhost:8080/"
        },
        "outputId": "c03d1d7f-78e2-435f-ae6f-f0ca82d1632b"
      },
      "execution_count": 23,
      "outputs": [
        {
          "output_type": "stream",
          "name": "stdout",
          "text": [
            "--- 0.2365860939025879 seconds ---\n"
          ]
        },
        {
          "output_type": "execute_result",
          "data": {
            "text/plain": [
              "86196"
            ]
          },
          "metadata": {},
          "execution_count": 23
        }
      ]
    },
    {
      "cell_type": "code",
      "source": [
        "print(\"distributed time:    \",dc_time )\n",
        "print(\"single compute time: \", sc_time)"
      ],
      "metadata": {
        "colab": {
          "base_uri": "https://localhost:8080/"
        },
        "id": "mMwcdURE6VC2",
        "outputId": "d444fbb5-ce01-4aad-8f6f-f4d0568558f8"
      },
      "execution_count": 24,
      "outputs": [
        {
          "output_type": "stream",
          "name": "stdout",
          "text": [
            "distributed time:     0.03486371040344238\n",
            "single compute time:  0.2383289337158203\n"
          ]
        }
      ]
    },
    {
      "cell_type": "code",
      "metadata": {
        "id": "CfqeO-pJTS0b",
        "colab": {
          "base_uri": "https://localhost:8080/"
        },
        "outputId": "bd6aaa56-85f1-4c2e-8cb2-deb6f7e2a5c6"
      },
      "source": [
        "start_time = time.time()\n",
        "#Sort the words by most-to-least words\n",
        "SortedWordsCount=DistinctWordsCount.map(lambda a: (a[1], a[0])).sortByKey()\n",
        "print(\"--- %s seconds ---\" % (time.time() - start_time))\n",
        "dc_time=time.time() - start_time\n",
        "#print most frequent 20 words\n",
        "SortedWordsCount.top(20)"
      ],
      "execution_count": 25,
      "outputs": [
        {
          "output_type": "stream",
          "name": "stdout",
          "text": [
            "--- 1.3808770179748535 seconds ---\n"
          ]
        },
        {
          "output_type": "execute_result",
          "data": {
            "text/plain": [
              "[(517065, ''),\n",
              " (23242, 'the'),\n",
              " (19540, 'I'),\n",
              " (18297, 'and'),\n",
              " (15623, 'to'),\n",
              " (15544, 'of'),\n",
              " (12532, 'a'),\n",
              " (10824, 'my'),\n",
              " (9576, 'in'),\n",
              " (9081, 'you'),\n",
              " (7851, 'is'),\n",
              " (7531, 'that'),\n",
              " (7068, 'And'),\n",
              " (6948, 'not'),\n",
              " (6722, 'with'),\n",
              " (6218, 'his'),\n",
              " (6009, 'your'),\n",
              " (6002, 'be'),\n",
              " (5616, 'for'),\n",
              " (5236, 'have')]"
            ]
          },
          "metadata": {},
          "execution_count": 25
        }
      ]
    },
    {
      "cell_type": "code",
      "source": [
        "#start_time = time.time()\n",
        "#counted_words=[]\n",
        "#words_unique=list(words_unique)\n",
        "#for i in range(len(words_unique)):\n",
        "#  tuples= (word_shakes_python.count(words_unique[i]), words_unique[i])\n",
        "#  counted_words.append(tuples)\n",
        "#print(\"--- %s seconds ---\" % (time.time() - start_time))\n",
        "#sc_time= time.time() - start_time"
      ],
      "metadata": {
        "colab": {
          "base_uri": "https://localhost:8080/"
        },
        "id": "vCNId0D-nPR1",
        "outputId": "5e169801-78f3-478f-c408-9e6858c1bfb8"
      },
      "execution_count": 27,
      "outputs": [
        {
          "output_type": "stream",
          "name": "stdout",
          "text": [
            "--- 2157.6034429073334 seconds ---\n"
          ]
        }
      ]
    },
    {
      "cell_type": "code",
      "source": [
        "#print(\"distributed time:    \",dc_time )\n",
        "#print(\"single compute time: \", sc_time)"
      ],
      "metadata": {
        "colab": {
          "base_uri": "https://localhost:8080/"
        },
        "id": "AZ58OA0Y6tOd",
        "outputId": "f99e68e4-70bb-4bdb-c566-8985a6d0e045"
      },
      "execution_count": 28,
      "outputs": [
        {
          "output_type": "stream",
          "name": "stdout",
          "text": [
            "distributed time:     1.3811061382293701\n",
            "single compute time:  2157.603858232498\n"
          ]
        }
      ]
    }
  ]
}