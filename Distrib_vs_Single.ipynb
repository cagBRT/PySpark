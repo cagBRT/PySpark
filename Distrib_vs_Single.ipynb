{
  "nbformat": 4,
  "nbformat_minor": 0,
  "metadata": {
    "colab": {
      "provenance": [],
      "include_colab_link": true
    },
    "kernelspec": {
      "name": "python3",
      "display_name": "Python 3"
    }
  },
  "cells": [
    {
      "cell_type": "markdown",
      "metadata": {
        "id": "view-in-github",
        "colab_type": "text"
      },
      "source": [
        "<a href=\"https://colab.research.google.com/github/cagBRT/PySpark/blob/master/Distrib_vs_Single.ipynb\" target=\"_parent\"><img src=\"https://colab.research.google.com/assets/colab-badge.svg\" alt=\"Open In Colab\"/></a>"
      ]
    },
    {
      "cell_type": "markdown",
      "source": [
        "In this notebook we compare doing a task in a distributed environment and on a single CPU (single computer)"
      ],
      "metadata": {
        "id": "K3X28QvNFpaX"
      }
    },
    {
      "cell_type": "code",
      "metadata": {
        "id": "fO32etdFU4oJ",
        "colab": {
          "base_uri": "https://localhost:8080/"
        },
        "outputId": "23b938ed-890c-4ecf-db73-7156f689380e"
      },
      "source": [
        "!git clone https://github.com/cagBRT/PySpark.git"
      ],
      "execution_count": 2,
      "outputs": [
        {
          "output_type": "stream",
          "name": "stdout",
          "text": [
            "Cloning into 'PySpark'...\n",
            "remote: Enumerating objects: 405, done.\u001b[K\n",
            "remote: Counting objects: 100% (75/75), done.\u001b[K\n",
            "remote: Compressing objects: 100% (75/75), done.\u001b[K\n",
            "remote: Total 405 (delta 46), reused 0 (delta 0), pack-reused 330\u001b[K\n",
            "Receiving objects: 100% (405/405), 3.37 MiB | 12.19 MiB/s, done.\n",
            "Resolving deltas: 100% (244/244), done.\n"
          ]
        }
      ]
    },
    {
      "cell_type": "markdown",
      "source": [
        "\n",
        "\n",
        "---\n",
        "\n",
        "\n",
        "\n",
        "---\n",
        "\n"
      ],
      "metadata": {
        "id": "LL1ztsRp50_D"
      }
    },
    {
      "cell_type": "markdown",
      "metadata": {
        "id": "3MDmH23O2bzN"
      },
      "source": [
        "# Setup Spark<br>\n",
        "\n",
        "If using DataBricks this section will be different"
      ]
    },
    {
      "cell_type": "code",
      "source": [
        "!pip install pyspark"
      ],
      "metadata": {
        "id": "O-JCwTBcC8rl",
        "colab": {
          "base_uri": "https://localhost:8080/"
        },
        "outputId": "7ba10aec-437a-4c6d-bb32-00d016386f86"
      },
      "execution_count": 3,
      "outputs": [
        {
          "output_type": "stream",
          "name": "stdout",
          "text": [
            "Collecting pyspark\n",
            "  Downloading pyspark-3.5.1.tar.gz (317.0 MB)\n",
            "\u001b[2K     \u001b[90m━━━━━━━━━━━━━━━━━━━━━━━━━━━━━━━━━━━━━━━━\u001b[0m \u001b[32m317.0/317.0 MB\u001b[0m \u001b[31m3.7 MB/s\u001b[0m eta \u001b[36m0:00:00\u001b[0m\n",
            "\u001b[?25h  Preparing metadata (setup.py) ... \u001b[?25l\u001b[?25hdone\n",
            "Requirement already satisfied: py4j==0.10.9.7 in /usr/local/lib/python3.10/dist-packages (from pyspark) (0.10.9.7)\n",
            "Building wheels for collected packages: pyspark\n",
            "  Building wheel for pyspark (setup.py) ... \u001b[?25l\u001b[?25hdone\n",
            "  Created wheel for pyspark: filename=pyspark-3.5.1-py2.py3-none-any.whl size=317488491 sha256=d98bdc58c7247ebdb3800d3c12253c0030aa3a6c106601f45e8ca74aa7dae989\n",
            "  Stored in directory: /root/.cache/pip/wheels/80/1d/60/2c256ed38dddce2fdd93be545214a63e02fbd8d74fb0b7f3a6\n",
            "Successfully built pyspark\n",
            "Installing collected packages: pyspark\n",
            "Successfully installed pyspark-3.5.1\n"
          ]
        }
      ]
    },
    {
      "cell_type": "code",
      "metadata": {
        "id": "UPBTzKW-O5Vg",
        "colab": {
          "base_uri": "https://localhost:8080/",
          "height": 219
        },
        "outputId": "4c23685e-19c2-448b-b70d-5e120b7df924"
      },
      "source": [
        "#Import SparkSession\n",
        "from pyspark.sql import SparkSession\n",
        "# Create a Spark Session\n",
        "#getOrCreate gets or creates a session\n",
        "spark = SparkSession.builder.master(\"local[*]\").getOrCreate()\n",
        "# Check Spark Session Information\n",
        "spark"
      ],
      "execution_count": 4,
      "outputs": [
        {
          "output_type": "execute_result",
          "data": {
            "text/plain": [
              "<pyspark.sql.session.SparkSession at 0x7cc29a6a2c80>"
            ],
            "text/html": [
              "\n",
              "            <div>\n",
              "                <p><b>SparkSession - in-memory</b></p>\n",
              "                \n",
              "        <div>\n",
              "            <p><b>SparkContext</b></p>\n",
              "\n",
              "            <p><a href=\"http://70bfa42abd2c:4040\">Spark UI</a></p>\n",
              "\n",
              "            <dl>\n",
              "              <dt>Version</dt>\n",
              "                <dd><code>v3.5.1</code></dd>\n",
              "              <dt>Master</dt>\n",
              "                <dd><code>local[*]</code></dd>\n",
              "              <dt>AppName</dt>\n",
              "                <dd><code>pyspark-shell</code></dd>\n",
              "            </dl>\n",
              "        </div>\n",
              "        \n",
              "            </div>\n",
              "        "
            ]
          },
          "metadata": {},
          "execution_count": 4
        }
      ]
    },
    {
      "cell_type": "code",
      "metadata": {
        "id": "l7q3Yaww7gAK"
      },
      "source": [
        "import urllib.request\n",
        "from pyspark.sql import SparkSession\n",
        "from pyspark import SparkContext"
      ],
      "execution_count": 5,
      "outputs": []
    },
    {
      "cell_type": "code",
      "source": [
        "spark = (\n",
        "    SparkSession.builder\n",
        "        .appName('learn')\n",
        "        .config('spark.driver.memory', '8g')\n",
        "        .master('local[4]',)\n",
        "        .config('spark.sql.execution.arrow.pyspark.enabled', True)\n",
        "        .config('spark.sql.execution.arrow.pyspark.fallback.enabled', False)\n",
        "        .getOrCreate()\n",
        ")"
      ],
      "metadata": {
        "id": "pZIHz0EuAxDt"
      },
      "execution_count": 6,
      "outputs": []
    },
    {
      "cell_type": "code",
      "source": [
        "sc=spark.sparkContext.getOrCreate()"
      ],
      "metadata": {
        "id": "XDuwRrjxdSy3"
      },
      "execution_count": 7,
      "outputs": []
    },
    {
      "cell_type": "markdown",
      "source": [
        "\n",
        "\n",
        "---\n",
        "\n",
        "\n",
        "\n",
        "---\n",
        "\n"
      ],
      "metadata": {
        "id": "nk_RtYtu5zTk"
      }
    },
    {
      "cell_type": "markdown",
      "source": [
        "We will now get all the works of Shakespeare (a very large file) and perform count and sort tasks."
      ],
      "metadata": {
        "id": "Pc4zjjVFGdtn"
      }
    },
    {
      "cell_type": "markdown",
      "metadata": {
        "id": "RFM0W26B0EGe"
      },
      "source": [
        "# Get all of Shakespeare’s works"
      ]
    },
    {
      "cell_type": "code",
      "metadata": {
        "id": "oO4bQVsN0hfn"
      },
      "source": [
        "import time"
      ],
      "execution_count": 8,
      "outputs": []
    },
    {
      "cell_type": "markdown",
      "source": [
        "**Let's find out how long it takes a distributed computer to perform the task of counting all the words in Shakespeare's works**."
      ],
      "metadata": {
        "id": "X2hQcaUR4mXQ"
      }
    },
    {
      "cell_type": "code",
      "metadata": {
        "id": "t714VxFTVMRu",
        "colab": {
          "base_uri": "https://localhost:8080/"
        },
        "outputId": "be458743-80f3-4ddb-da2b-e93e099cc261"
      },
      "source": [
        "start_time = time.time()\n",
        "#Count the number of words in all of Shakespear's works\n",
        "Words=sc.textFile(\"/content/PySpark/shakespeare.txt\")\n",
        "WordsCount=Words.flatMap(lambda line: line.split(\" \")).map(lambda word: (word, 1))\n",
        "print(\"--- %s seconds ---\" % (time.time() - start_time))\n",
        "dc_time=time.time() - start_time\n",
        "WordsCount.count()"
      ],
      "execution_count": 9,
      "outputs": [
        {
          "output_type": "stream",
          "name": "stdout",
          "text": [
            "--- 2.3998754024505615 seconds ---\n"
          ]
        },
        {
          "output_type": "execute_result",
          "data": {
            "text/plain": [
              "1418390"
            ]
          },
          "metadata": {},
          "execution_count": 9
        }
      ]
    },
    {
      "cell_type": "markdown",
      "source": [
        "**Let's find out how long it takes a *single computer* to perform the task of counting all the words in Shakespeare's works**."
      ],
      "metadata": {
        "id": "j_xA3Wqa46jz"
      }
    },
    {
      "cell_type": "code",
      "source": [
        "start_time = time.time()\n",
        "f= open(\"/content/PySpark/shakespeare.txt\", \"r\")\n",
        "words_shakes= f.read()\n",
        "f.close()\n",
        "word_shakes_python=words_shakes.split(\" \")\n",
        "print(\"--- %s seconds ---\" % (time.time() - start_time))\n",
        "sc_time=time.time() - start_time\n",
        "len(word_shakes_python)"
      ],
      "metadata": {
        "id": "xUfXBwygdi8G",
        "colab": {
          "base_uri": "https://localhost:8080/"
        },
        "outputId": "f9218ea4-737c-4fd8-d70c-be4eef1fafc6"
      },
      "execution_count": 10,
      "outputs": [
        {
          "output_type": "stream",
          "name": "stdout",
          "text": [
            "--- 0.2688431739807129 seconds ---\n"
          ]
        },
        {
          "output_type": "execute_result",
          "data": {
            "text/plain": [
              "1293935"
            ]
          },
          "metadata": {},
          "execution_count": 10
        }
      ]
    },
    {
      "cell_type": "code",
      "source": [
        "print(\"distributed time:    \",dc_time )\n",
        "print(\"single compute time: \", sc_time)"
      ],
      "metadata": {
        "colab": {
          "base_uri": "https://localhost:8080/"
        },
        "id": "WVTC6U7T5HjA",
        "outputId": "8d7f2ee3-732c-4832-f554-2356350194d3"
      },
      "execution_count": 11,
      "outputs": [
        {
          "output_type": "stream",
          "name": "stdout",
          "text": [
            "distributed time:     2.4001705646514893\n",
            "single compute time:  0.2705707550048828\n"
          ]
        }
      ]
    },
    {
      "cell_type": "code",
      "metadata": {
        "id": "08KjxEuLVgC_",
        "colab": {
          "base_uri": "https://localhost:8080/"
        },
        "outputId": "8521d99f-11d3-433a-bf9a-0b40cc94fb60"
      },
      "source": [
        "start_time = time.time()\n",
        "#Count the number of distinct words\n",
        "DistinctWordsCount=WordsCount.reduceByKey(lambda a,b: a+b)\n",
        "print(\"--- %s seconds ---\" % (time.time() - start_time))\n",
        "dc_time=time.time() - start_time\n",
        "DistinctWordsCount.count()"
      ],
      "execution_count": 12,
      "outputs": [
        {
          "output_type": "stream",
          "name": "stdout",
          "text": [
            "--- 0.15034842491149902 seconds ---\n"
          ]
        },
        {
          "output_type": "execute_result",
          "data": {
            "text/plain": [
              "67506"
            ]
          },
          "metadata": {},
          "execution_count": 12
        }
      ]
    },
    {
      "cell_type": "code",
      "source": [
        "start_time = time.time()\n",
        "words_unique=set(word_shakes_python)\n",
        "print(\"--- %s seconds ---\" % (time.time() - start_time))\n",
        "sc_time=time.time() - start_time\n",
        "len(words_unique)"
      ],
      "metadata": {
        "id": "mCtSCtPmebyK",
        "colab": {
          "base_uri": "https://localhost:8080/"
        },
        "outputId": "3fc7dee1-4f95-47c9-98c6-930f62316130"
      },
      "execution_count": 13,
      "outputs": [
        {
          "output_type": "stream",
          "name": "stdout",
          "text": [
            "--- 0.12885522842407227 seconds ---\n"
          ]
        },
        {
          "output_type": "execute_result",
          "data": {
            "text/plain": [
              "86196"
            ]
          },
          "metadata": {},
          "execution_count": 13
        }
      ]
    },
    {
      "cell_type": "code",
      "source": [
        "print(\"distributed time:    \",dc_time )\n",
        "print(\"single compute time: \", sc_time)"
      ],
      "metadata": {
        "colab": {
          "base_uri": "https://localhost:8080/"
        },
        "id": "mMwcdURE6VC2",
        "outputId": "96a5eb27-1595-44a5-9bf7-33944b2d2640"
      },
      "execution_count": 14,
      "outputs": [
        {
          "output_type": "stream",
          "name": "stdout",
          "text": [
            "distributed time:     0.1506049633026123\n",
            "single compute time:  0.12943625450134277\n"
          ]
        }
      ]
    },
    {
      "cell_type": "code",
      "metadata": {
        "id": "CfqeO-pJTS0b",
        "colab": {
          "base_uri": "https://localhost:8080/"
        },
        "outputId": "89d0f188-d30f-4236-913d-6942d74a412b"
      },
      "source": [
        "start_time = time.time()\n",
        "#Sort the words by most-to-least words\n",
        "SortedWordsCount=DistinctWordsCount.map(lambda a: (a[1], a[0])).sortByKey()\n",
        "print(\"--- %s seconds ---\" % (time.time() - start_time))\n",
        "dc_time=time.time() - start_time\n",
        "#print most frequent 20 words\n",
        "SortedWordsCount.top(20)"
      ],
      "execution_count": 15,
      "outputs": [
        {
          "output_type": "stream",
          "name": "stdout",
          "text": [
            "--- 2.427220582962036 seconds ---\n"
          ]
        },
        {
          "output_type": "execute_result",
          "data": {
            "text/plain": [
              "[(517065, ''),\n",
              " (23242, 'the'),\n",
              " (19540, 'I'),\n",
              " (18297, 'and'),\n",
              " (15623, 'to'),\n",
              " (15544, 'of'),\n",
              " (12532, 'a'),\n",
              " (10824, 'my'),\n",
              " (9576, 'in'),\n",
              " (9081, 'you'),\n",
              " (7851, 'is'),\n",
              " (7531, 'that'),\n",
              " (7068, 'And'),\n",
              " (6948, 'not'),\n",
              " (6722, 'with'),\n",
              " (6218, 'his'),\n",
              " (6009, 'your'),\n",
              " (6002, 'be'),\n",
              " (5616, 'for'),\n",
              " (5236, 'have')]"
            ]
          },
          "metadata": {},
          "execution_count": 15
        }
      ]
    },
    {
      "cell_type": "code",
      "source": [
        "#start_time = time.time()\n",
        "#counted_words=[]\n",
        "#words_unique=list(words_unique)\n",
        "#for i in range(len(words_unique)):\n",
        "#  tuples= (word_shakes_python.count(words_unique[i]), words_unique[i])\n",
        "#  counted_words.append(tuples)\n",
        "#print(\"--- %s seconds ---\" % (time.time() - start_time))\n",
        "#sc_time= time.time() - start_time"
      ],
      "metadata": {
        "id": "vCNId0D-nPR1"
      },
      "execution_count": 16,
      "outputs": []
    },
    {
      "cell_type": "code",
      "source": [
        "#print(\"distributed time:    \",dc_time )\n",
        "#print(\"single compute time: \", sc_time)"
      ],
      "metadata": {
        "id": "AZ58OA0Y6tOd"
      },
      "execution_count": 17,
      "outputs": []
    },
    {
      "cell_type": "markdown",
      "source": [
        "distributed time:     1.38<br>\n",
        "single compute time:  2158"
      ],
      "metadata": {
        "id": "e6BVucALOy3e"
      }
    },
    {
      "cell_type": "markdown",
      "source": [
        "\n",
        "\n",
        "---\n",
        "\n",
        "**Gettyburg Address**\n",
        "\n",
        "---\n",
        "\n"
      ],
      "metadata": {
        "id": "V0ERCu2qK-Oe"
      }
    },
    {
      "cell_type": "code",
      "source": [
        "start_time = time.time()\n",
        "Lincoln = sc.textFile(\"/content/PySpark/GettysBurg.txt\")\n",
        "LincolnCount=Lincoln.flatMap(lambda line: line.split(\" \")).map(lambda word: (word, 1))\n",
        "dist_lincoln_count=LincolnCount.count()\n",
        "print(\"--- %s seconds ---\" % (time.time() - start_time))\n",
        "dc_time=time.time() - start_time"
      ],
      "metadata": {
        "id": "lcJwjFtaK-a9",
        "outputId": "f5cf5c7d-ae60-4c58-dfbe-e407f1980f7b",
        "colab": {
          "base_uri": "https://localhost:8080/"
        }
      },
      "execution_count": 33,
      "outputs": [
        {
          "output_type": "stream",
          "name": "stdout",
          "text": [
            "--- 0.8015420436859131 seconds ---\n"
          ]
        }
      ]
    },
    {
      "cell_type": "code",
      "source": [
        "start_time = time.time()\n",
        "f= open(\"/content/PySpark/GettysBurg.txt\", \"r\")\n",
        "single_lincoln_count= f.read()\n",
        "f.close()\n",
        "single_lincoln_count=words_lincoln.split(\" \")\n",
        "sc_time=time.time() - start_time\n",
        "print(\"--- %s seconds ---\" % (time.time() - start_time))\n",
        "len(single_lincoln_count)"
      ],
      "metadata": {
        "id": "vfH0Ry0YLK96",
        "outputId": "5b8fca0a-07e6-4895-ae54-6a34378b4bab",
        "colab": {
          "base_uri": "https://localhost:8080/"
        }
      },
      "execution_count": 37,
      "outputs": [
        {
          "output_type": "stream",
          "name": "stdout",
          "text": [
            "--- 0.002059459686279297 seconds ---\n"
          ]
        },
        {
          "output_type": "execute_result",
          "data": {
            "text/plain": [
              "263"
            ]
          },
          "metadata": {},
          "execution_count": 37
        }
      ]
    },
    {
      "cell_type": "code",
      "source": [
        "print(\"distributed time:    \",dc_time )\n",
        "print(\"single compute time: \", sc_time)"
      ],
      "metadata": {
        "id": "VBtQVN3LMBLS",
        "outputId": "5389c4a4-2ebe-4c5c-ec3e-85dfa6a75e59",
        "colab": {
          "base_uri": "https://localhost:8080/"
        }
      },
      "execution_count": 38,
      "outputs": [
        {
          "output_type": "stream",
          "name": "stdout",
          "text": [
            "distributed time:     0.8018198013305664\n",
            "single compute time:  0.001999378204345703\n"
          ]
        }
      ]
    },
    {
      "cell_type": "markdown",
      "source": [],
      "metadata": {
        "id": "iy8ElsZdMGNr"
      }
    },
    {
      "cell_type": "code",
      "source": [
        "#Count the number of distinct words\n",
        "start_time = time.time()\n",
        "DistinctWordsCount=WordsCount.reduceByKey(lambda a,b: a+b)\n",
        "DistinctWordsCount.count()\n",
        "sc_time=time.time() - start_time\n",
        "print(\"--- %s seconds ---\" % (time.time() - start_time))"
      ],
      "metadata": {
        "id": "HpP-ALXtMGYm",
        "outputId": "44dbbe7e-ba91-47d4-9884-b4e267d7063f",
        "colab": {
          "base_uri": "https://localhost:8080/"
        }
      },
      "execution_count": 39,
      "outputs": [
        {
          "output_type": "stream",
          "name": "stdout",
          "text": [
            "--- 4.585787534713745 seconds ---\n"
          ]
        }
      ]
    }
  ]
}