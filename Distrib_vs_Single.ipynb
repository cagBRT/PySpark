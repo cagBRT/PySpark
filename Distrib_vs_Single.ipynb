{
  "nbformat": 4,
  "nbformat_minor": 0,
  "metadata": {
    "colab": {
      "provenance": [],
      "include_colab_link": true
    },
    "kernelspec": {
      "name": "python3",
      "display_name": "Python 3"
    }
  },
  "cells": [
    {
      "cell_type": "markdown",
      "metadata": {
        "id": "view-in-github",
        "colab_type": "text"
      },
      "source": [
        "<a href=\"https://colab.research.google.com/github/cagBRT/PySpark/blob/master/Distrib_vs_Single.ipynb\" target=\"_parent\"><img src=\"https://colab.research.google.com/assets/colab-badge.svg\" alt=\"Open In Colab\"/></a>"
      ]
    },
    {
      "cell_type": "markdown",
      "source": [
        "In this notebook we compare doing a task in a distributed environment and on a single CPU (single computer)"
      ],
      "metadata": {
        "id": "K3X28QvNFpaX"
      }
    },
    {
      "cell_type": "code",
      "metadata": {
        "id": "fO32etdFU4oJ",
        "colab": {
          "base_uri": "https://localhost:8080/"
        },
        "outputId": "1dc1af4a-57e1-4830-b15e-5ec485c9c202"
      },
      "source": [
        "!git clone https://github.com/cagBRT/PySpark.git"
      ],
      "execution_count": 1,
      "outputs": [
        {
          "output_type": "stream",
          "name": "stdout",
          "text": [
            "Cloning into 'PySpark'...\n",
            "remote: Enumerating objects: 438, done.\u001b[K\n",
            "remote: Counting objects: 100% (108/108), done.\u001b[K\n",
            "remote: Compressing objects: 100% (108/108), done.\u001b[K\n",
            "remote: Total 438 (delta 66), reused 0 (delta 0), pack-reused 330 (from 1)\u001b[K\n",
            "Receiving objects: 100% (438/438), 3.39 MiB | 11.35 MiB/s, done.\n",
            "Resolving deltas: 100% (264/264), done.\n"
          ]
        }
      ]
    },
    {
      "cell_type": "markdown",
      "source": [
        "\n",
        "\n",
        "---\n",
        "\n",
        "\n",
        "\n",
        "---\n",
        "\n"
      ],
      "metadata": {
        "id": "LL1ztsRp50_D"
      }
    },
    {
      "cell_type": "markdown",
      "metadata": {
        "id": "3MDmH23O2bzN"
      },
      "source": [
        "# Setup PySpark<br>\n",
        "\n",
        "If using DataBricks this section will be different"
      ]
    },
    {
      "cell_type": "code",
      "source": [
        "!pip install pyspark"
      ],
      "metadata": {
        "id": "O-JCwTBcC8rl",
        "colab": {
          "base_uri": "https://localhost:8080/"
        },
        "outputId": "85bfbfc6-3a23-41fb-f5e5-e2d209b22645"
      },
      "execution_count": 31,
      "outputs": [
        {
          "output_type": "stream",
          "name": "stdout",
          "text": [
            "Requirement already satisfied: pyspark in /usr/local/lib/python3.10/dist-packages (3.5.2)\n",
            "Requirement already satisfied: py4j==0.10.9.7 in /usr/local/lib/python3.10/dist-packages (from pyspark) (0.10.9.7)\n"
          ]
        }
      ]
    },
    {
      "cell_type": "code",
      "metadata": {
        "id": "UPBTzKW-O5Vg",
        "colab": {
          "base_uri": "https://localhost:8080/",
          "height": 219
        },
        "outputId": "ebf745a7-e742-4b17-b0d4-15fd0525b776"
      },
      "source": [
        "#Import SparkSession\n",
        "from pyspark.sql import SparkSession\n",
        "# Create a Spark Session\n",
        "#getOrCreate gets or creates a session\n",
        "spark = SparkSession.builder.master(\"local[*]\").getOrCreate()\n",
        "# Check Spark Session Information\n",
        "spark"
      ],
      "execution_count": 30,
      "outputs": [
        {
          "output_type": "execute_result",
          "data": {
            "text/plain": [
              "<pyspark.sql.session.SparkSession at 0x7fcea462fa30>"
            ],
            "text/html": [
              "\n",
              "            <div>\n",
              "                <p><b>SparkSession - in-memory</b></p>\n",
              "                \n",
              "        <div>\n",
              "            <p><b>SparkContext</b></p>\n",
              "\n",
              "            <p><a href=\"http://d37300bbc961:4040\">Spark UI</a></p>\n",
              "\n",
              "            <dl>\n",
              "              <dt>Version</dt>\n",
              "                <dd><code>v3.5.2</code></dd>\n",
              "              <dt>Master</dt>\n",
              "                <dd><code>local[*]</code></dd>\n",
              "              <dt>AppName</dt>\n",
              "                <dd><code>pyspark-shell</code></dd>\n",
              "            </dl>\n",
              "        </div>\n",
              "        \n",
              "            </div>\n",
              "        "
            ]
          },
          "metadata": {},
          "execution_count": 30
        }
      ]
    },
    {
      "cell_type": "code",
      "source": [
        "def setupSpark():\n",
        "  # Spark needs to run with Java 8 ...\n",
        "  !pip install -q findspark\n",
        "  !apt-get install openjdk-8-jdk-headless > /dev/null\n",
        "  !echo 2 | update-alternatives --config java > /dev/null\n",
        "  # !java -version\n",
        "  import os, findspark\n",
        "  os.environ['JAVA_HOME'] = '/usr/lib/jvm/java-8-openjdk-amd64'\n",
        "  # !echo JAVA_HOME=$JAVA_HOME\n",
        "  !pip install -q pyspark\n",
        "  findspark.init(spark_home='/usr/local/lib/python3.6/dist-packages/pyspark')\n",
        "  !pyspark --version\n",
        "\n",
        "\n",
        "setupSpark()"
      ],
      "metadata": {
        "colab": {
          "base_uri": "https://localhost:8080/"
        },
        "id": "QlP__YjzNDbz",
        "outputId": "259c182c-dcd5-4582-c2ab-4a3ebfe8d994"
      },
      "execution_count": 33,
      "outputs": [
        {
          "output_type": "stream",
          "name": "stdout",
          "text": [
            "/usr/local/bin/pyspark: line 24: /usr/local/lib/python3.6/dist-packages/pyspark/bin/load-spark-env.sh: No such file or directory\n",
            "/usr/local/bin/pyspark: line 68: /usr/local/lib/python3.6/dist-packages/pyspark/bin/spark-submit: No such file or directory\n"
          ]
        }
      ]
    },
    {
      "cell_type": "code",
      "metadata": {
        "id": "l7q3Yaww7gAK"
      },
      "source": [
        "import urllib.request\n",
        "from pyspark.sql import SparkSession\n",
        "from pyspark import SparkContext"
      ],
      "execution_count": 4,
      "outputs": []
    },
    {
      "cell_type": "code",
      "source": [
        "spark = (\n",
        "    SparkSession.builder\n",
        "        .appName('learn')\n",
        "        .config('spark.driver.memory', '8g')\n",
        "        .master('local[4]',)\n",
        "        .config('spark.sql.execution.arrow.pyspark.enabled', True)\n",
        "        .config('spark.sql.execution.arrow.pyspark.fallback.enabled', False)\n",
        "        .getOrCreate()\n",
        ")"
      ],
      "metadata": {
        "id": "pZIHz0EuAxDt"
      },
      "execution_count": 5,
      "outputs": []
    },
    {
      "cell_type": "code",
      "source": [
        "sc=spark.sparkContext.getOrCreate()"
      ],
      "metadata": {
        "id": "XDuwRrjxdSy3"
      },
      "execution_count": 6,
      "outputs": []
    },
    {
      "cell_type": "code",
      "metadata": {
        "id": "oO4bQVsN0hfn"
      },
      "source": [
        "import time"
      ],
      "execution_count": 7,
      "outputs": []
    },
    {
      "cell_type": "markdown",
      "source": [
        "\n",
        "\n",
        "---\n",
        "\n",
        "\n",
        "\n",
        "---\n",
        "\n"
      ],
      "metadata": {
        "id": "nk_RtYtu5zTk"
      }
    },
    {
      "cell_type": "markdown",
      "source": [
        "We will now get all the works of Shakespeare (a very large file) and perform count and sort tasks."
      ],
      "metadata": {
        "id": "Pc4zjjVFGdtn"
      }
    },
    {
      "cell_type": "markdown",
      "metadata": {
        "id": "RFM0W26B0EGe"
      },
      "source": [
        "# Get all of Shakespeare’s works"
      ]
    },
    {
      "cell_type": "markdown",
      "source": [
        "**Let's find out how long it takes a distributed computer to perform the task of counting all the words in Shakespeare's works**."
      ],
      "metadata": {
        "id": "X2hQcaUR4mXQ"
      }
    },
    {
      "cell_type": "code",
      "metadata": {
        "id": "t714VxFTVMRu",
        "colab": {
          "base_uri": "https://localhost:8080/"
        },
        "outputId": "70f87695-4386-44b1-8d3c-f2ffce889e89"
      },
      "source": [
        "start_time = time.time()\n",
        "#Count the number of words in all of Shakespear's works\n",
        "Words=sc.textFile(\"/content/PySpark/shakespeare.txt\")\n",
        "WordsCount=Words.flatMap(lambda line: line.split(\" \")).map(lambda word: (word, 1))\n",
        "print(\"--- %s seconds ---\" % (time.time() - start_time))\n",
        "dc_time=time.time() - start_time\n",
        "print(\"Number of words:\",WordsCount.count())"
      ],
      "execution_count": 8,
      "outputs": [
        {
          "output_type": "stream",
          "name": "stdout",
          "text": [
            "--- 1.2822182178497314 seconds ---\n",
            "Number of words: 1418390\n"
          ]
        }
      ]
    },
    {
      "cell_type": "markdown",
      "source": [
        "**Let's find out how long it takes a *single computer* to perform the task of counting all the words in Shakespeare's works**."
      ],
      "metadata": {
        "id": "j_xA3Wqa46jz"
      }
    },
    {
      "cell_type": "code",
      "source": [
        "start_time = time.time()\n",
        "f= open(\"/content/PySpark/shakespeare.txt\", \"r\")\n",
        "words_shakes= f.read()\n",
        "f.close()\n",
        "word_shakes_python=words_shakes.split(\" \")\n",
        "sc_time=time.time() - start_time\n",
        "print(\"--- %s seconds ---\" % (sc_time))\n",
        "len(word_shakes_python)"
      ],
      "metadata": {
        "id": "xUfXBwygdi8G",
        "colab": {
          "base_uri": "https://localhost:8080/"
        },
        "outputId": "d377c9a7-b36d-49a2-83d6-7f1371f41f7c"
      },
      "execution_count": 35,
      "outputs": [
        {
          "output_type": "stream",
          "name": "stdout",
          "text": [
            "--- 0.15586352348327637 seconds ---\n"
          ]
        },
        {
          "output_type": "execute_result",
          "data": {
            "text/plain": [
              "1293935"
            ]
          },
          "metadata": {},
          "execution_count": 35
        }
      ]
    },
    {
      "cell_type": "code",
      "source": [
        "print(\"distributed time:    \",dc_time )\n",
        "print(\"single compute time: \", sc_time)"
      ],
      "metadata": {
        "colab": {
          "base_uri": "https://localhost:8080/"
        },
        "id": "WVTC6U7T5HjA",
        "outputId": "5701d73d-db57-4fc1-ec04-a2a04bc503dc"
      },
      "execution_count": 36,
      "outputs": [
        {
          "output_type": "stream",
          "name": "stdout",
          "text": [
            "distributed time:     1.501145601272583\n",
            "single compute time:  0.15586352348327637\n"
          ]
        }
      ]
    },
    {
      "cell_type": "markdown",
      "source": [
        "**How long for counting distinct words?**"
      ],
      "metadata": {
        "id": "X3wNU8QhBSRU"
      }
    },
    {
      "cell_type": "code",
      "metadata": {
        "id": "08KjxEuLVgC_",
        "colab": {
          "base_uri": "https://localhost:8080/"
        },
        "outputId": "e96c7faa-ca6d-4f9a-fdf3-80f35e820125"
      },
      "source": [
        "start_time = time.time()\n",
        "#Count the number of distinct words\n",
        "DistinctWordsCount=WordsCount.reduceByKey(lambda a,b: a+b)\n",
        "print(\"--- %s seconds ---\" % (time.time() - start_time))\n",
        "dc_time=time.time() - start_time\n",
        "print(\"Number of distinct words:\",DistinctWordsCount.count())"
      ],
      "execution_count": 11,
      "outputs": [
        {
          "output_type": "stream",
          "name": "stdout",
          "text": [
            "--- 0.0923318862915039 seconds ---\n",
            "Number of distinct words: 67506\n"
          ]
        }
      ]
    },
    {
      "cell_type": "code",
      "source": [
        "start_time = time.time()\n",
        "words_unique=set(word_shakes_python)\n",
        "print(\"--- %s seconds ---\" % (time.time() - start_time))\n",
        "sc_time=time.time() - start_time\n",
        "len(words_unique)"
      ],
      "metadata": {
        "id": "mCtSCtPmebyK",
        "colab": {
          "base_uri": "https://localhost:8080/"
        },
        "outputId": "e53da71c-24d2-451e-9e39-abef35fa2925"
      },
      "execution_count": 12,
      "outputs": [
        {
          "output_type": "stream",
          "name": "stdout",
          "text": [
            "--- 0.12170147895812988 seconds ---\n"
          ]
        },
        {
          "output_type": "execute_result",
          "data": {
            "text/plain": [
              "86196"
            ]
          },
          "metadata": {},
          "execution_count": 12
        }
      ]
    },
    {
      "cell_type": "code",
      "source": [
        "print(\"distributed time:    \",dc_time )\n",
        "print(\"single compute time: \", sc_time)"
      ],
      "metadata": {
        "colab": {
          "base_uri": "https://localhost:8080/"
        },
        "id": "mMwcdURE6VC2",
        "outputId": "234dc78d-38bc-4b17-d944-92406429442d"
      },
      "execution_count": 13,
      "outputs": [
        {
          "output_type": "stream",
          "name": "stdout",
          "text": [
            "distributed time:     0.09261393547058105\n",
            "single compute time:  0.12292981147766113\n"
          ]
        }
      ]
    },
    {
      "cell_type": "code",
      "metadata": {
        "id": "CfqeO-pJTS0b",
        "colab": {
          "base_uri": "https://localhost:8080/"
        },
        "outputId": "64eb67c5-58b4-4c8d-adb6-259d95386817"
      },
      "source": [
        "start_time = time.time()\n",
        "#Sort the words by most-to-least words\n",
        "SortedWordsCount=DistinctWordsCount.map(lambda a: (a[1], a[0])).sortByKey()\n",
        "print(\"--- %s seconds ---\" % (time.time() - start_time))\n",
        "dc_time=time.time() - start_time\n",
        "#print most frequent 20 words\n",
        "SortedWordsCount.top(20)"
      ],
      "execution_count": 14,
      "outputs": [
        {
          "output_type": "stream",
          "name": "stdout",
          "text": [
            "--- 1.3316192626953125 seconds ---\n"
          ]
        },
        {
          "output_type": "execute_result",
          "data": {
            "text/plain": [
              "[(517065, ''),\n",
              " (23242, 'the'),\n",
              " (19540, 'I'),\n",
              " (18297, 'and'),\n",
              " (15623, 'to'),\n",
              " (15544, 'of'),\n",
              " (12532, 'a'),\n",
              " (10824, 'my'),\n",
              " (9576, 'in'),\n",
              " (9081, 'you'),\n",
              " (7851, 'is'),\n",
              " (7531, 'that'),\n",
              " (7068, 'And'),\n",
              " (6948, 'not'),\n",
              " (6722, 'with'),\n",
              " (6218, 'his'),\n",
              " (6009, 'your'),\n",
              " (6002, 'be'),\n",
              " (5616, 'for'),\n",
              " (5236, 'have')]"
            ]
          },
          "metadata": {},
          "execution_count": 14
        }
      ]
    },
    {
      "cell_type": "code",
      "source": [
        "#start_time = time.time()\n",
        "#counted_words=[]\n",
        "#words_unique=list(words_unique)\n",
        "#for i in range(len(words_unique)):\n",
        "#  tuples= (word_shakes_python.count(words_unique[i]), words_unique[i])\n",
        "#  counted_words.append(tuples)\n",
        "#print(\"--- %s seconds ---\" % (time.time() - start_time))\n",
        "#sc_time= time.time() - start_time"
      ],
      "metadata": {
        "id": "vCNId0D-nPR1"
      },
      "execution_count": 15,
      "outputs": []
    },
    {
      "cell_type": "code",
      "source": [
        "#print(\"distributed time:    \",dc_time )\n",
        "#print(\"single compute time: \", sc_time)"
      ],
      "metadata": {
        "id": "AZ58OA0Y6tOd"
      },
      "execution_count": 16,
      "outputs": []
    },
    {
      "cell_type": "markdown",
      "source": [
        "distributed time:     1.38<br>\n",
        "single compute time:  2158"
      ],
      "metadata": {
        "id": "e6BVucALOy3e"
      }
    },
    {
      "cell_type": "markdown",
      "source": [
        "\n",
        "\n",
        "---\n",
        "\n",
        "# Gettyburg Address\n",
        "\n",
        "---\n",
        "\n"
      ],
      "metadata": {
        "id": "V0ERCu2qK-Oe"
      }
    },
    {
      "cell_type": "markdown",
      "source": [
        "**Count all the words using a distributed environment**"
      ],
      "metadata": {
        "id": "koSixHP8RauF"
      }
    },
    {
      "cell_type": "code",
      "source": [
        "start_time = time.time()\n",
        "Lincoln = sc.textFile(\"/content/PySpark/GettysBurg.txt\")\n",
        "LincolnCount=Lincoln.flatMap(lambda line: line.split(\" \")).map(lambda word: (word, 1))\n",
        "dist_lincoln_count=LincolnCount.count()\n",
        "print(\"--- %s seconds ---\" % (time.time() - start_time))\n",
        "dc_time=time.time() - start_time\n",
        "print(\"Number of words:\",dist_lincoln_count)"
      ],
      "metadata": {
        "colab": {
          "base_uri": "https://localhost:8080/"
        },
        "id": "lcJwjFtaK-a9",
        "outputId": "45b0aa9d-3dc0-4342-ebeb-334019769da6"
      },
      "execution_count": 17,
      "outputs": [
        {
          "output_type": "stream",
          "name": "stdout",
          "text": [
            "--- 0.5492563247680664 seconds ---\n",
            "Number of words: 266\n"
          ]
        }
      ]
    },
    {
      "cell_type": "markdown",
      "source": [
        "**Count all the words using a single CPU**"
      ],
      "metadata": {
        "id": "rcI1M1RxTmW0"
      }
    },
    {
      "cell_type": "code",
      "source": [
        "start_time = time.time()\n",
        "f= open(\"/content/PySpark/GettysBurg.txt\", \"r\")\n",
        "single_lincoln_count= f.read()\n",
        "f.close()\n",
        "single_lincoln_count=single_lincoln_count.split(\" \")\n",
        "print(\"--- %s seconds ---\" % (time.time() - start_time))\n",
        "sc_time=time.time() - start_time\n",
        "len(single_lincoln_count)"
      ],
      "metadata": {
        "colab": {
          "base_uri": "https://localhost:8080/"
        },
        "id": "vfH0Ry0YLK96",
        "outputId": "da76a7cb-bcae-472b-b99f-15765c5a4c70"
      },
      "execution_count": 18,
      "outputs": [
        {
          "output_type": "stream",
          "name": "stdout",
          "text": [
            "--- 0.0017499923706054688 seconds ---\n"
          ]
        },
        {
          "output_type": "execute_result",
          "data": {
            "text/plain": [
              "263"
            ]
          },
          "metadata": {},
          "execution_count": 18
        }
      ]
    },
    {
      "cell_type": "code",
      "source": [
        "print(\"distributed time:    \",dc_time )\n",
        "print(\"single compute time: \", sc_time)"
      ],
      "metadata": {
        "colab": {
          "base_uri": "https://localhost:8080/"
        },
        "id": "VBtQVN3LMBLS",
        "outputId": "117bed53-32ac-43e9-fb4f-74a21b3467d0"
      },
      "execution_count": 19,
      "outputs": [
        {
          "output_type": "stream",
          "name": "stdout",
          "text": [
            "distributed time:     0.5495297908782959\n",
            "single compute time:  0.0018970966339111328\n"
          ]
        }
      ]
    },
    {
      "cell_type": "markdown",
      "source": [
        "**Count unique words using a distributed environment**"
      ],
      "metadata": {
        "id": "iy8ElsZdMGNr"
      }
    },
    {
      "cell_type": "code",
      "source": [
        "#Count the number of distinct words\n",
        "start_time = time.time()\n",
        "DistinctWordsCount=LincolnCount.reduceByKey(lambda a,b: a+b)\n",
        "DistinctWordsCount.count()\n",
        "dc_time=time.time() - start_time\n",
        "print(\"--- %s seconds ---\" % (time.time() - start_time))\n",
        "DistinctWordsCount.count()"
      ],
      "metadata": {
        "colab": {
          "base_uri": "https://localhost:8080/"
        },
        "id": "HpP-ALXtMGYm",
        "outputId": "ac2b6370-7f63-401b-f7e8-ed08a3e4292c"
      },
      "execution_count": 20,
      "outputs": [
        {
          "output_type": "stream",
          "name": "stdout",
          "text": [
            "--- 1.115626573562622 seconds ---\n"
          ]
        },
        {
          "output_type": "execute_result",
          "data": {
            "text/plain": [
              "158"
            ]
          },
          "metadata": {},
          "execution_count": 20
        }
      ]
    },
    {
      "cell_type": "markdown",
      "source": [
        "**Count the unique words using a single computer**"
      ],
      "metadata": {
        "id": "TPSNFkoOTyjs"
      }
    },
    {
      "cell_type": "code",
      "source": [
        "start_time = time.time()\n",
        "words_unique=set(single_lincoln_count)\n",
        "print(\"--- %s seconds ---\" % (time.time() - start_time))\n",
        "sc_time=time.time() - start_time\n",
        "len(words_unique)"
      ],
      "metadata": {
        "colab": {
          "base_uri": "https://localhost:8080/"
        },
        "id": "6ED7SBYcPG1K",
        "outputId": "d3525c5d-379f-4559-bb57-e193c7d4c17b"
      },
      "execution_count": 21,
      "outputs": [
        {
          "output_type": "stream",
          "name": "stdout",
          "text": [
            "--- 0.00014400482177734375 seconds ---\n"
          ]
        },
        {
          "output_type": "execute_result",
          "data": {
            "text/plain": [
              "155"
            ]
          },
          "metadata": {},
          "execution_count": 21
        }
      ]
    },
    {
      "cell_type": "code",
      "source": [
        "print(\"distributed time:    \",dc_time )\n",
        "print(\"single compute time: \", sc_time)"
      ],
      "metadata": {
        "colab": {
          "base_uri": "https://localhost:8080/"
        },
        "id": "UCfRb7VFQV_h",
        "outputId": "b67e19bb-75fc-4fd3-9169-5a50405551e3"
      },
      "execution_count": 22,
      "outputs": [
        {
          "output_type": "stream",
          "name": "stdout",
          "text": [
            "distributed time:     1.1155269145965576\n",
            "single compute time:  0.00784754753112793\n"
          ]
        }
      ]
    },
    {
      "cell_type": "markdown",
      "source": [
        "**Count the word frequency using a distributed environment**"
      ],
      "metadata": {
        "id": "-THEfCEdW6TH"
      }
    },
    {
      "cell_type": "code",
      "source": [
        "start_time = time.time()\n",
        "#Sort the words by most-to-least words\n",
        "SortedWordsCount=DistinctWordsCount.map(lambda a: (a[1], a[0])).sortByKey()\n",
        "print(\"--- %s seconds ---\" % (time.time() - start_time))\n",
        "dc_time=time.time() - start_time\n",
        "#print most frequent 20 words\n",
        "#SortedWordsCount.top(20)"
      ],
      "metadata": {
        "colab": {
          "base_uri": "https://localhost:8080/"
        },
        "id": "E-NQgTd5Rduh",
        "outputId": "6a810e86-e9be-4ccf-f82b-fad7b0abe008"
      },
      "execution_count": 23,
      "outputs": [
        {
          "output_type": "stream",
          "name": "stdout",
          "text": [
            "--- 1.5009355545043945 seconds ---\n"
          ]
        }
      ]
    },
    {
      "cell_type": "markdown",
      "source": [
        "**Count the word frequency using a single computer**"
      ],
      "metadata": {
        "id": "aZ_MeQE3Sk2S"
      }
    },
    {
      "cell_type": "code",
      "source": [
        "start_time = time.time()\n",
        "counted_words=[]\n",
        "words_unique=list(words_unique)\n",
        "for i in range(len(words_unique)):\n",
        "  tuples= (words_unique.count(words_unique[i]), words_unique[i])\n",
        "  counted_words.append(tuples)\n",
        "print(\"--- %s seconds ---\" % (time.time() - start_time))\n",
        "sc_time= time.time() - start_time\n"
      ],
      "metadata": {
        "id": "IEcXG4qpSlB9",
        "outputId": "d013fee3-fe72-4aab-c003-2704ac50dd2d",
        "colab": {
          "base_uri": "https://localhost:8080/"
        }
      },
      "execution_count": 24,
      "outputs": [
        {
          "output_type": "stream",
          "name": "stdout",
          "text": [
            "--- 0.0011508464813232422 seconds ---\n"
          ]
        }
      ]
    },
    {
      "cell_type": "code",
      "source": [
        "print(\"distributed time:    \",dc_time )\n",
        "print(\"single compute time: \", sc_time)"
      ],
      "metadata": {
        "colab": {
          "base_uri": "https://localhost:8080/"
        },
        "id": "QtcUU9krV65u",
        "outputId": "a018f19d-7637-4115-9884-af5b9218d367"
      },
      "execution_count": 25,
      "outputs": [
        {
          "output_type": "stream",
          "name": "stdout",
          "text": [
            "distributed time:     1.501145601272583\n",
            "single compute time:  0.013538599014282227\n"
          ]
        }
      ]
    },
    {
      "cell_type": "code",
      "source": [
        "sc.stop()"
      ],
      "metadata": {
        "id": "F5BfsMXbJra2"
      },
      "execution_count": 37,
      "outputs": []
    }
  ]
}