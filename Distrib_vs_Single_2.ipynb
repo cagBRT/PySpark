{
  "nbformat": 4,
  "nbformat_minor": 0,
  "metadata": {
    "colab": {
      "provenance": [],
      "gpuType": "T4",
      "include_colab_link": true
    },
    "kernelspec": {
      "name": "python3",
      "display_name": "Python 3"
    },
    "accelerator": "GPU"
  },
  "cells": [
    {
      "cell_type": "markdown",
      "metadata": {
        "id": "view-in-github",
        "colab_type": "text"
      },
      "source": [
        "<a href=\"https://colab.research.google.com/github/cagBRT/PySpark/blob/master/Distrib_vs_Single_2.ipynb\" target=\"_parent\"><img src=\"https://colab.research.google.com/assets/colab-badge.svg\" alt=\"Open In Colab\"/></a>"
      ]
    },
    {
      "cell_type": "markdown",
      "source": [
        "In this notebook we compare doing a task in a distributed environment and on a single CPU (single computer)"
      ],
      "metadata": {
        "id": "K3X28QvNFpaX"
      }
    },
    {
      "cell_type": "code",
      "metadata": {
        "id": "fO32etdFU4oJ",
        "colab": {
          "base_uri": "https://localhost:8080/"
        },
        "outputId": "3bc9b40a-1e31-49ad-d48d-f1493ffcb2e2"
      },
      "source": [
        "!git clone https://github.com/cagBRT/PySpark.git"
      ],
      "execution_count": 1,
      "outputs": [
        {
          "output_type": "stream",
          "name": "stdout",
          "text": [
            "Cloning into 'PySpark'...\n",
            "remote: Enumerating objects: 399, done.\u001b[K\n",
            "remote: Counting objects: 100% (69/69), done.\u001b[K\n",
            "remote: Compressing objects: 100% (69/69), done.\u001b[K\n",
            "remote: Total 399 (delta 42), reused 0 (delta 0), pack-reused 330\u001b[K\n",
            "Receiving objects: 100% (399/399), 3.37 MiB | 19.16 MiB/s, done.\n",
            "Resolving deltas: 100% (240/240), done.\n"
          ]
        }
      ]
    },
    {
      "cell_type": "markdown",
      "source": [
        "\n",
        "\n",
        "---\n",
        "\n",
        "\n",
        "\n",
        "---\n",
        "\n"
      ],
      "metadata": {
        "id": "LL1ztsRp50_D"
      }
    },
    {
      "cell_type": "markdown",
      "metadata": {
        "id": "3MDmH23O2bzN"
      },
      "source": [
        "# Setup Spark<br>\n",
        "\n",
        "If using DataBricks this section will be different"
      ]
    },
    {
      "cell_type": "code",
      "source": [
        "!pip install pyspark"
      ],
      "metadata": {
        "id": "O-JCwTBcC8rl",
        "colab": {
          "base_uri": "https://localhost:8080/"
        },
        "outputId": "4deaf4ac-35ef-4d86-86b3-867a06b2924b"
      },
      "execution_count": 2,
      "outputs": [
        {
          "output_type": "stream",
          "name": "stdout",
          "text": [
            "Collecting pyspark\n",
            "  Downloading pyspark-3.5.1.tar.gz (317.0 MB)\n",
            "\u001b[2K     \u001b[90m━━━━━━━━━━━━━━━━━━━━━━━━━━━━━━━━━━━━━━━━\u001b[0m \u001b[32m317.0/317.0 MB\u001b[0m \u001b[31m3.2 MB/s\u001b[0m eta \u001b[36m0:00:00\u001b[0m\n",
            "\u001b[?25h  Preparing metadata (setup.py) ... \u001b[?25l\u001b[?25hdone\n",
            "Requirement already satisfied: py4j==0.10.9.7 in /usr/local/lib/python3.10/dist-packages (from pyspark) (0.10.9.7)\n",
            "Building wheels for collected packages: pyspark\n",
            "  Building wheel for pyspark (setup.py) ... \u001b[?25l\u001b[?25hdone\n",
            "  Created wheel for pyspark: filename=pyspark-3.5.1-py2.py3-none-any.whl size=317488491 sha256=c8e2e6a27571fb54f493d5f94e71e9a07d60a9803a7771b28e37751cb1a8844e\n",
            "  Stored in directory: /root/.cache/pip/wheels/80/1d/60/2c256ed38dddce2fdd93be545214a63e02fbd8d74fb0b7f3a6\n",
            "Successfully built pyspark\n",
            "Installing collected packages: pyspark\n",
            "Successfully installed pyspark-3.5.1\n"
          ]
        }
      ]
    },
    {
      "cell_type": "code",
      "metadata": {
        "id": "UPBTzKW-O5Vg",
        "colab": {
          "base_uri": "https://localhost:8080/",
          "height": 219
        },
        "outputId": "03ecd7c7-2495-450b-a2c9-7353bbe51beb"
      },
      "source": [
        "#Import SparkSession\n",
        "from pyspark.sql import SparkSession\n",
        "# Create a Spark Session\n",
        "#getOrCreate gets or creates a session\n",
        "spark = SparkSession.builder.master(\"local[*]\").getOrCreate()\n",
        "# Check Spark Session Information\n",
        "spark"
      ],
      "execution_count": 3,
      "outputs": [
        {
          "output_type": "execute_result",
          "data": {
            "text/plain": [
              "<pyspark.sql.session.SparkSession at 0x7c61cab16500>"
            ],
            "text/html": [
              "\n",
              "            <div>\n",
              "                <p><b>SparkSession - in-memory</b></p>\n",
              "                \n",
              "        <div>\n",
              "            <p><b>SparkContext</b></p>\n",
              "\n",
              "            <p><a href=\"http://93a8c256b3b8:4040\">Spark UI</a></p>\n",
              "\n",
              "            <dl>\n",
              "              <dt>Version</dt>\n",
              "                <dd><code>v3.5.1</code></dd>\n",
              "              <dt>Master</dt>\n",
              "                <dd><code>local[*]</code></dd>\n",
              "              <dt>AppName</dt>\n",
              "                <dd><code>pyspark-shell</code></dd>\n",
              "            </dl>\n",
              "        </div>\n",
              "        \n",
              "            </div>\n",
              "        "
            ]
          },
          "metadata": {},
          "execution_count": 3
        }
      ]
    },
    {
      "cell_type": "code",
      "metadata": {
        "id": "l7q3Yaww7gAK"
      },
      "source": [
        "import urllib.request\n",
        "from pyspark.sql import SparkSession\n",
        "from pyspark import SparkContext"
      ],
      "execution_count": 4,
      "outputs": []
    },
    {
      "cell_type": "code",
      "source": [
        "spark = (\n",
        "    SparkSession.builder\n",
        "        .appName('learn')\n",
        "        .config('spark.driver.memory', '8g')\n",
        "        .master('local[4]',)\n",
        "        .config('spark.sql.execution.arrow.pyspark.enabled', True)\n",
        "        .config('spark.sql.execution.arrow.pyspark.fallback.enabled', False)\n",
        "        .getOrCreate()\n",
        ")"
      ],
      "metadata": {
        "id": "pZIHz0EuAxDt"
      },
      "execution_count": 5,
      "outputs": []
    },
    {
      "cell_type": "code",
      "source": [
        "sc=spark.sparkContext.getOrCreate()"
      ],
      "metadata": {
        "id": "XDuwRrjxdSy3"
      },
      "execution_count": 6,
      "outputs": []
    },
    {
      "cell_type": "markdown",
      "source": [
        "\n",
        "\n",
        "---\n",
        "\n",
        "\n",
        "\n",
        "---\n",
        "\n"
      ],
      "metadata": {
        "id": "nk_RtYtu5zTk"
      }
    },
    {
      "cell_type": "markdown",
      "source": [
        "We will now get all the works of Shakespeare (a very large file) and perform count and sort tasks."
      ],
      "metadata": {
        "id": "Pc4zjjVFGdtn"
      }
    },
    {
      "cell_type": "markdown",
      "metadata": {
        "id": "RFM0W26B0EGe"
      },
      "source": [
        "# Get all of Shakespeare’s works"
      ]
    },
    {
      "cell_type": "code",
      "metadata": {
        "id": "oO4bQVsN0hfn"
      },
      "source": [
        "import time"
      ],
      "execution_count": 7,
      "outputs": []
    },
    {
      "cell_type": "markdown",
      "source": [
        "**Let's find out how long it takes a distributed computer to perform the task of counting all the words in Shakespeare's works**."
      ],
      "metadata": {
        "id": "X2hQcaUR4mXQ"
      }
    },
    {
      "cell_type": "code",
      "metadata": {
        "id": "t714VxFTVMRu",
        "colab": {
          "base_uri": "https://localhost:8080/"
        },
        "outputId": "001547c5-99cf-49c6-feb3-75dae86396b9"
      },
      "source": [
        "start_time = time.time()\n",
        "#Count the number of words in all of Shakespear's works\n",
        "Words=sc.textFile(\"/content/PySpark/shakespeare.txt\")\n",
        "WordsCount=Words.flatMap(lambda line: line.split(\" \")).map(lambda word: (word, 1))\n",
        "print(\"--- %s seconds ---\" % (time.time() - start_time))\n",
        "dc_time=time.time() - start_time\n",
        "WordsCount.count()"
      ],
      "execution_count": 8,
      "outputs": [
        {
          "output_type": "stream",
          "name": "stdout",
          "text": [
            "--- 1.097320318222046 seconds ---\n"
          ]
        },
        {
          "output_type": "execute_result",
          "data": {
            "text/plain": [
              "1418390"
            ]
          },
          "metadata": {},
          "execution_count": 8
        }
      ]
    },
    {
      "cell_type": "markdown",
      "source": [
        "**Let's find out how long it takes a *single computer* to perform the task of counting all the words in Shakespeare's works**."
      ],
      "metadata": {
        "id": "j_xA3Wqa46jz"
      }
    },
    {
      "cell_type": "code",
      "source": [
        "start_time = time.time()\n",
        "f= open(\"/content/PySpark/shakespeare.txt\", \"r\")\n",
        "words_shakes= f.read()\n",
        "f.close()\n",
        "word_shakes_python=words_shakes.split(\" \")\n",
        "print(\"--- %s seconds ---\" % (time.time() - start_time))\n",
        "sc_time=time.time() - start_time\n",
        "len(word_shakes_python)"
      ],
      "metadata": {
        "id": "xUfXBwygdi8G",
        "colab": {
          "base_uri": "https://localhost:8080/"
        },
        "outputId": "5cc8b9b6-39b1-42a0-f205-01bb15382017"
      },
      "execution_count": 9,
      "outputs": [
        {
          "output_type": "stream",
          "name": "stdout",
          "text": [
            "--- 0.10163593292236328 seconds ---\n"
          ]
        },
        {
          "output_type": "execute_result",
          "data": {
            "text/plain": [
              "1293935"
            ]
          },
          "metadata": {},
          "execution_count": 9
        }
      ]
    },
    {
      "cell_type": "code",
      "source": [
        "print(\"distributed time:    \",dc_time )\n",
        "print(\"single compute time: \", sc_time)"
      ],
      "metadata": {
        "colab": {
          "base_uri": "https://localhost:8080/"
        },
        "id": "WVTC6U7T5HjA",
        "outputId": "70c96eeb-0800-4ea1-b39d-814de67a1a20"
      },
      "execution_count": 10,
      "outputs": [
        {
          "output_type": "stream",
          "name": "stdout",
          "text": [
            "distributed time:     1.0975432395935059\n",
            "single compute time:  0.10182547569274902\n"
          ]
        }
      ]
    },
    {
      "cell_type": "code",
      "metadata": {
        "id": "08KjxEuLVgC_",
        "colab": {
          "base_uri": "https://localhost:8080/"
        },
        "outputId": "29878c82-42e6-45e0-d513-1cbc35fe5084"
      },
      "source": [
        "start_time = time.time()\n",
        "#Count the number of distinct words\n",
        "DistinctWordsCount=WordsCount.reduceByKey(lambda a,b: a+b)\n",
        "print(\"--- %s seconds ---\" % (time.time() - start_time))\n",
        "dc_time=time.time() - start_time\n",
        "DistinctWordsCount.count()"
      ],
      "execution_count": 11,
      "outputs": [
        {
          "output_type": "stream",
          "name": "stdout",
          "text": [
            "--- 0.040022850036621094 seconds ---\n"
          ]
        },
        {
          "output_type": "execute_result",
          "data": {
            "text/plain": [
              "67506"
            ]
          },
          "metadata": {},
          "execution_count": 11
        }
      ]
    },
    {
      "cell_type": "code",
      "source": [
        "start_time = time.time()\n",
        "words_unique=set(word_shakes_python)\n",
        "print(\"--- %s seconds ---\" % (time.time() - start_time))\n",
        "sc_time=time.time() - start_time\n",
        "len(words_unique)"
      ],
      "metadata": {
        "id": "mCtSCtPmebyK",
        "colab": {
          "base_uri": "https://localhost:8080/"
        },
        "outputId": "807defda-6d9b-4307-d41e-88689052976f"
      },
      "execution_count": 12,
      "outputs": [
        {
          "output_type": "stream",
          "name": "stdout",
          "text": [
            "--- 0.2015228271484375 seconds ---\n"
          ]
        },
        {
          "output_type": "execute_result",
          "data": {
            "text/plain": [
              "86196"
            ]
          },
          "metadata": {},
          "execution_count": 12
        }
      ]
    },
    {
      "cell_type": "code",
      "source": [
        "print(\"distributed time:    \",dc_time )\n",
        "print(\"single compute time: \", sc_time)"
      ],
      "metadata": {
        "colab": {
          "base_uri": "https://localhost:8080/"
        },
        "id": "mMwcdURE6VC2",
        "outputId": "d5ed4930-7156-440e-ea0b-64cbbe0c5e2f"
      },
      "execution_count": 13,
      "outputs": [
        {
          "output_type": "stream",
          "name": "stdout",
          "text": [
            "distributed time:     0.040190696716308594\n",
            "single compute time:  0.20385193824768066\n"
          ]
        }
      ]
    },
    {
      "cell_type": "code",
      "metadata": {
        "id": "CfqeO-pJTS0b",
        "colab": {
          "base_uri": "https://localhost:8080/"
        },
        "outputId": "bc78aba6-ca3f-4d39-9aca-f41ef710b786"
      },
      "source": [
        "start_time = time.time()\n",
        "#Sort the words by most-to-least words\n",
        "SortedWordsCount=DistinctWordsCount.map(lambda a: (a[1], a[0])).sortByKey()\n",
        "print(\"--- %s seconds ---\" % (time.time() - start_time))\n",
        "dc_time=time.time() - start_time\n",
        "#print most frequent 20 words\n",
        "SortedWordsCount.top(20)"
      ],
      "execution_count": 14,
      "outputs": [
        {
          "output_type": "stream",
          "name": "stdout",
          "text": [
            "--- 2.0078492164611816 seconds ---\n"
          ]
        },
        {
          "output_type": "execute_result",
          "data": {
            "text/plain": [
              "[(517065, ''),\n",
              " (23242, 'the'),\n",
              " (19540, 'I'),\n",
              " (18297, 'and'),\n",
              " (15623, 'to'),\n",
              " (15544, 'of'),\n",
              " (12532, 'a'),\n",
              " (10824, 'my'),\n",
              " (9576, 'in'),\n",
              " (9081, 'you'),\n",
              " (7851, 'is'),\n",
              " (7531, 'that'),\n",
              " (7068, 'And'),\n",
              " (6948, 'not'),\n",
              " (6722, 'with'),\n",
              " (6218, 'his'),\n",
              " (6009, 'your'),\n",
              " (6002, 'be'),\n",
              " (5616, 'for'),\n",
              " (5236, 'have')]"
            ]
          },
          "metadata": {},
          "execution_count": 14
        }
      ]
    },
    {
      "cell_type": "code",
      "source": [
        "#start_time = time.time()\n",
        "#counted_words=[]\n",
        "#words_unique=list(words_unique)\n",
        "#for i in range(len(words_unique)):\n",
        "#  tuples= (word_shakes_python.count(words_unique[i]), words_unique[i])\n",
        "#  counted_words.append(tuples)\n",
        "#print(\"--- %s seconds ---\" % (time.time() - start_time))\n",
        "#sc_time= time.time() - start_time"
      ],
      "metadata": {
        "colab": {
          "base_uri": "https://localhost:8080/"
        },
        "id": "vCNId0D-nPR1",
        "outputId": "507db4fb-983c-48db-bc17-59d0a759f6d3"
      },
      "execution_count": 17,
      "outputs": [
        {
          "output_type": "stream",
          "name": "stdout",
          "text": [
            "--- 1706.7744374275208 seconds ---\n"
          ]
        }
      ]
    },
    {
      "cell_type": "code",
      "source": [
        "print(\"distributed time:    \",dc_time )\n",
        "print(\"single compute time: \", sc_time)"
      ],
      "metadata": {
        "colab": {
          "base_uri": "https://localhost:8080/"
        },
        "id": "AZ58OA0Y6tOd",
        "outputId": "1ad2fd93-d624-44bf-edcb-90bcf200294d"
      },
      "execution_count": 18,
      "outputs": [
        {
          "output_type": "stream",
          "name": "stdout",
          "text": [
            "distributed time:     2.008025884628296\n",
            "single compute time:  1706.7746877670288\n"
          ]
        }
      ]
    },
    {
      "cell_type": "markdown",
      "source": [
        "distributed time:     2.008025884628296<br>\n",
        "single compute time:  1706.7746877670288"
      ],
      "metadata": {
        "id": "7toQe-roOW5M"
      }
    }
  ]
}