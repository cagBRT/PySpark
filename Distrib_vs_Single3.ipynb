{
  "nbformat": 4,
  "nbformat_minor": 0,
  "metadata": {
    "colab": {
      "provenance": [],
      "include_colab_link": true
    },
    "kernelspec": {
      "name": "python3",
      "display_name": "Python 3"
    }
  },
  "cells": [
    {
      "cell_type": "markdown",
      "metadata": {
        "id": "view-in-github",
        "colab_type": "text"
      },
      "source": [
        "<a href=\"https://colab.research.google.com/github/cagBRT/PySpark/blob/master/Distrib_vs_Single3.ipynb\" target=\"_parent\"><img src=\"https://colab.research.google.com/assets/colab-badge.svg\" alt=\"Open In Colab\"/></a>"
      ]
    },
    {
      "cell_type": "markdown",
      "source": [
        "In this notebook we compare doing a task in a distributed environment and on a single CPU (single computer)"
      ],
      "metadata": {
        "id": "K3X28QvNFpaX"
      }
    },
    {
      "cell_type": "code",
      "metadata": {
        "id": "fO32etdFU4oJ",
        "colab": {
          "base_uri": "https://localhost:8080/"
        },
        "outputId": "fcdbf891-16de-42a3-e8bc-1e9155ea10b7"
      },
      "source": [
        "!git clone https://github.com/cagBRT/PySpark.git"
      ],
      "execution_count": 1,
      "outputs": [
        {
          "output_type": "stream",
          "name": "stdout",
          "text": [
            "Cloning into 'PySpark'...\n",
            "remote: Enumerating objects: 417, done.\u001b[K\n",
            "remote: Counting objects: 100% (87/87), done.\u001b[K\n",
            "remote: Compressing objects: 100% (87/87), done.\u001b[K\n",
            "remote: Total 417 (delta 54), reused 0 (delta 0), pack-reused 330\u001b[K\n",
            "Receiving objects: 100% (417/417), 3.37 MiB | 10.96 MiB/s, done.\n",
            "Resolving deltas: 100% (252/252), done.\n"
          ]
        }
      ]
    },
    {
      "cell_type": "markdown",
      "source": [
        "\n",
        "\n",
        "---\n",
        "\n",
        "\n",
        "\n",
        "---\n",
        "\n"
      ],
      "metadata": {
        "id": "LL1ztsRp50_D"
      }
    },
    {
      "cell_type": "markdown",
      "metadata": {
        "id": "3MDmH23O2bzN"
      },
      "source": [
        "# Setup Spark<br>\n",
        "\n",
        "If using DataBricks this section will be different"
      ]
    },
    {
      "cell_type": "code",
      "source": [
        "!pip install pyspark"
      ],
      "metadata": {
        "id": "O-JCwTBcC8rl",
        "colab": {
          "base_uri": "https://localhost:8080/"
        },
        "outputId": "c4b028ea-d2e7-4474-f186-858be122bb61"
      },
      "execution_count": 2,
      "outputs": [
        {
          "output_type": "stream",
          "name": "stdout",
          "text": [
            "Collecting pyspark\n",
            "  Downloading pyspark-3.5.1.tar.gz (317.0 MB)\n",
            "\u001b[2K     \u001b[90m━━━━━━━━━━━━━━━━━━━━━━━━━━━━━━━━━━━━━━━━\u001b[0m \u001b[32m317.0/317.0 MB\u001b[0m \u001b[31m3.2 MB/s\u001b[0m eta \u001b[36m0:00:00\u001b[0m\n",
            "\u001b[?25h  Preparing metadata (setup.py) ... \u001b[?25l\u001b[?25hdone\n",
            "Requirement already satisfied: py4j==0.10.9.7 in /usr/local/lib/python3.10/dist-packages (from pyspark) (0.10.9.7)\n",
            "Building wheels for collected packages: pyspark\n",
            "  Building wheel for pyspark (setup.py) ... \u001b[?25l\u001b[?25hdone\n",
            "  Created wheel for pyspark: filename=pyspark-3.5.1-py2.py3-none-any.whl size=317488491 sha256=d610fc1d803bcc4306e73f9489fc21e4bec37de5684af992181da9ef720a9cf0\n",
            "  Stored in directory: /root/.cache/pip/wheels/80/1d/60/2c256ed38dddce2fdd93be545214a63e02fbd8d74fb0b7f3a6\n",
            "Successfully built pyspark\n",
            "Installing collected packages: pyspark\n",
            "Successfully installed pyspark-3.5.1\n"
          ]
        }
      ]
    },
    {
      "cell_type": "code",
      "metadata": {
        "id": "UPBTzKW-O5Vg",
        "colab": {
          "base_uri": "https://localhost:8080/",
          "height": 219
        },
        "outputId": "780d6eb3-0ab8-4328-cfc7-7b2c56d398c9"
      },
      "source": [
        "#Import SparkSession\n",
        "from pyspark.sql import SparkSession\n",
        "# Create a Spark Session\n",
        "#getOrCreate gets or creates a session\n",
        "spark = SparkSession.builder.master(\"local[*]\").getOrCreate()\n",
        "# Check Spark Session Information\n",
        "spark"
      ],
      "execution_count": 3,
      "outputs": [
        {
          "output_type": "execute_result",
          "data": {
            "text/plain": [
              "<pyspark.sql.session.SparkSession at 0x799ed071a020>"
            ],
            "text/html": [
              "\n",
              "            <div>\n",
              "                <p><b>SparkSession - in-memory</b></p>\n",
              "                \n",
              "        <div>\n",
              "            <p><b>SparkContext</b></p>\n",
              "\n",
              "            <p><a href=\"http://380e33fd2368:4040\">Spark UI</a></p>\n",
              "\n",
              "            <dl>\n",
              "              <dt>Version</dt>\n",
              "                <dd><code>v3.5.1</code></dd>\n",
              "              <dt>Master</dt>\n",
              "                <dd><code>local[*]</code></dd>\n",
              "              <dt>AppName</dt>\n",
              "                <dd><code>pyspark-shell</code></dd>\n",
              "            </dl>\n",
              "        </div>\n",
              "        \n",
              "            </div>\n",
              "        "
            ]
          },
          "metadata": {},
          "execution_count": 3
        }
      ]
    },
    {
      "cell_type": "code",
      "metadata": {
        "id": "l7q3Yaww7gAK"
      },
      "source": [
        "import urllib.request\n",
        "from pyspark.sql import SparkSession\n",
        "from pyspark import SparkContext"
      ],
      "execution_count": 4,
      "outputs": []
    },
    {
      "cell_type": "code",
      "source": [
        "spark = (\n",
        "    SparkSession.builder\n",
        "        .appName('learn')\n",
        "        .config('spark.driver.memory', '8g')\n",
        "        .master('local[4]',)\n",
        "        .config('spark.sql.execution.arrow.pyspark.enabled', True)\n",
        "        .config('spark.sql.execution.arrow.pyspark.fallback.enabled', False)\n",
        "        .getOrCreate()\n",
        ")"
      ],
      "metadata": {
        "id": "pZIHz0EuAxDt"
      },
      "execution_count": 5,
      "outputs": []
    },
    {
      "cell_type": "code",
      "source": [
        "sc=spark.sparkContext.getOrCreate()"
      ],
      "metadata": {
        "id": "XDuwRrjxdSy3"
      },
      "execution_count": 6,
      "outputs": []
    },
    {
      "cell_type": "markdown",
      "source": [
        "\n",
        "\n",
        "---\n",
        "\n",
        "\n",
        "\n",
        "---\n",
        "\n"
      ],
      "metadata": {
        "id": "nk_RtYtu5zTk"
      }
    },
    {
      "cell_type": "markdown",
      "source": [
        "We will now get the Gettysburg address (a very small file)  and perform count and sort tasks."
      ],
      "metadata": {
        "id": "Pc4zjjVFGdtn"
      }
    },
    {
      "cell_type": "markdown",
      "metadata": {
        "id": "RFM0W26B0EGe"
      },
      "source": [
        "# Get the Gettysburg address"
      ]
    },
    {
      "cell_type": "code",
      "metadata": {
        "id": "oO4bQVsN0hfn"
      },
      "source": [
        "import time"
      ],
      "execution_count": 7,
      "outputs": []
    },
    {
      "cell_type": "markdown",
      "source": [
        "\n",
        "\n",
        "---\n",
        "\n",
        "**Gettyburg Address**\n",
        "\n",
        "---\n",
        "\n"
      ],
      "metadata": {
        "id": "V0ERCu2qK-Oe"
      }
    },
    {
      "cell_type": "markdown",
      "source": [
        "**Count all the words using a distributed environment**"
      ],
      "metadata": {
        "id": "koSixHP8RauF"
      }
    },
    {
      "cell_type": "code",
      "source": [
        "start_time = time.time()\n",
        "Lincoln = sc.textFile(\"/content/PySpark/GettysBurg.txt\")\n",
        "LincolnCount=Lincoln.flatMap(lambda line: line.split(\" \")).map(lambda word: (word, 1))\n",
        "dist_lincoln_count=LincolnCount.count()\n",
        "print(\"--- %s seconds ---\" % (time.time() - start_time))\n",
        "dc_time=time.time() - start_time\n",
        "dist_lincoln_count"
      ],
      "metadata": {
        "colab": {
          "base_uri": "https://localhost:8080/"
        },
        "id": "lcJwjFtaK-a9",
        "outputId": "2dd796c1-166c-4e9a-dde5-cd035a0e552e"
      },
      "execution_count": 8,
      "outputs": [
        {
          "output_type": "stream",
          "name": "stdout",
          "text": [
            "--- 6.4249818325042725 seconds ---\n"
          ]
        },
        {
          "output_type": "execute_result",
          "data": {
            "text/plain": [
              "266"
            ]
          },
          "metadata": {},
          "execution_count": 8
        }
      ]
    },
    {
      "cell_type": "markdown",
      "source": [
        "**Count all the words using a single CPU**"
      ],
      "metadata": {
        "id": "rcI1M1RxTmW0"
      }
    },
    {
      "cell_type": "code",
      "source": [
        "start_time = time.time()\n",
        "f= open(\"/content/PySpark/GettysBurg.txt\", \"r\")\n",
        "single_lincoln_count= f.read()\n",
        "f.close()\n",
        "single_lincoln_count=single_lincoln_count.split(\" \")\n",
        "print(\"--- %s seconds ---\" % (time.time() - start_time))\n",
        "sc_time=time.time() - start_time\n",
        "len(single_lincoln_count)"
      ],
      "metadata": {
        "colab": {
          "base_uri": "https://localhost:8080/"
        },
        "id": "vfH0Ry0YLK96",
        "outputId": "bc76c30a-3d5d-4462-af9e-df7eec541768"
      },
      "execution_count": 9,
      "outputs": [
        {
          "output_type": "stream",
          "name": "stdout",
          "text": [
            "--- 0.00047588348388671875 seconds ---\n"
          ]
        },
        {
          "output_type": "execute_result",
          "data": {
            "text/plain": [
              "263"
            ]
          },
          "metadata": {},
          "execution_count": 9
        }
      ]
    },
    {
      "cell_type": "code",
      "source": [
        "print(\"distributed time:    \",dc_time )\n",
        "print(\"single compute time: \", sc_time)"
      ],
      "metadata": {
        "colab": {
          "base_uri": "https://localhost:8080/"
        },
        "id": "VBtQVN3LMBLS",
        "outputId": "b80fd65d-9919-403c-cdae-4f385b6e327d"
      },
      "execution_count": 10,
      "outputs": [
        {
          "output_type": "stream",
          "name": "stdout",
          "text": [
            "distributed time:     6.4252636432647705\n",
            "single compute time:  0.015099048614501953\n"
          ]
        }
      ]
    },
    {
      "cell_type": "markdown",
      "source": [
        "**Count unique words using a distributed environment**"
      ],
      "metadata": {
        "id": "iy8ElsZdMGNr"
      }
    },
    {
      "cell_type": "code",
      "source": [
        "#Count the number of distinct words\n",
        "start_time = time.time()\n",
        "DistinctWordsCount=LincolnCount.reduceByKey(lambda a,b: a+b)\n",
        "DistinctWordsCount.count()\n",
        "dc_time=time.time() - start_time\n",
        "print(\"--- %s seconds ---\" % (time.time() - start_time))\n",
        "DistinctWordsCount.count()"
      ],
      "metadata": {
        "colab": {
          "base_uri": "https://localhost:8080/"
        },
        "id": "HpP-ALXtMGYm",
        "outputId": "95b9cedd-dd42-438c-84d8-735bb3c647be"
      },
      "execution_count": 11,
      "outputs": [
        {
          "output_type": "stream",
          "name": "stdout",
          "text": [
            "--- 3.864929676055908 seconds ---\n"
          ]
        },
        {
          "output_type": "execute_result",
          "data": {
            "text/plain": [
              "158"
            ]
          },
          "metadata": {},
          "execution_count": 11
        }
      ]
    },
    {
      "cell_type": "markdown",
      "source": [
        "**Count the unique words using a single computer**"
      ],
      "metadata": {
        "id": "TPSNFkoOTyjs"
      }
    },
    {
      "cell_type": "code",
      "source": [
        "start_time = time.time()\n",
        "words_unique=set(single_lincoln_count)\n",
        "print(\"--- %s seconds ---\" % (time.time() - start_time))\n",
        "sc_time=time.time() - start_time\n",
        "len(words_unique)"
      ],
      "metadata": {
        "id": "6ED7SBYcPG1K",
        "outputId": "fdcab9c8-e523-4278-96a0-e4d763cf52f4",
        "colab": {
          "base_uri": "https://localhost:8080/"
        }
      },
      "execution_count": 12,
      "outputs": [
        {
          "output_type": "stream",
          "name": "stdout",
          "text": [
            "--- 0.00018644332885742188 seconds ---\n"
          ]
        },
        {
          "output_type": "execute_result",
          "data": {
            "text/plain": [
              "155"
            ]
          },
          "metadata": {},
          "execution_count": 12
        }
      ]
    },
    {
      "cell_type": "code",
      "source": [
        "print(\"distributed time:    \",dc_time )\n",
        "print(\"single compute time: \", sc_time)"
      ],
      "metadata": {
        "id": "UCfRb7VFQV_h",
        "outputId": "f378daa1-b53e-412d-8934-e68a6bfa89fd",
        "colab": {
          "base_uri": "https://localhost:8080/"
        }
      },
      "execution_count": 13,
      "outputs": [
        {
          "output_type": "stream",
          "name": "stdout",
          "text": [
            "distributed time:     3.8586268424987793\n",
            "single compute time:  0.0030274391174316406\n"
          ]
        }
      ]
    },
    {
      "cell_type": "markdown",
      "source": [
        "**Count the word frequency using a distributed environment**"
      ],
      "metadata": {
        "id": "BGB9rWa_Rdj2"
      }
    },
    {
      "cell_type": "code",
      "source": [
        "start_time = time.time()\n",
        "#Sort the words by most-to-least words\n",
        "SortedWordsCount=DistinctWordsCount.map(lambda a: (a[1], a[0])).sortByKey()\n",
        "print(\"--- %s seconds ---\" % (time.time() - start_time))\n",
        "dc_time=time.time() - start_time\n",
        "#print most frequent 20 words\n",
        "#SortedWordsCount.top(20)"
      ],
      "metadata": {
        "id": "E-NQgTd5Rduh",
        "outputId": "cc43eb5b-832d-40e2-97f8-49e4266f8e7c",
        "colab": {
          "base_uri": "https://localhost:8080/"
        }
      },
      "execution_count": 14,
      "outputs": [
        {
          "output_type": "stream",
          "name": "stdout",
          "text": [
            "--- 1.0817790031433105 seconds ---\n"
          ]
        }
      ]
    },
    {
      "cell_type": "markdown",
      "source": [
        "**Count the word frequency using a single computer**"
      ],
      "metadata": {
        "id": "aZ_MeQE3Sk2S"
      }
    },
    {
      "cell_type": "code",
      "source": [
        "start_time = time.time()\n",
        "counted_words=[]\n",
        "words_unique=list(words_unique)\n",
        "for i in range(len(words_unique)):\n",
        "  tuples= (words_unique.count(words_unique[i]), words_unique[i])\n",
        "  counted_words.append(tuples)\n",
        "print(\"--- %s seconds ---\" % (time.time() - start_time))\n",
        "sc_time= time.time() - start_time\n"
      ],
      "metadata": {
        "id": "IEcXG4qpSlB9",
        "outputId": "ee88a8bf-0e85-4057-8fae-b0d1a1865b0f",
        "colab": {
          "base_uri": "https://localhost:8080/"
        }
      },
      "execution_count": 16,
      "outputs": [
        {
          "output_type": "stream",
          "name": "stdout",
          "text": [
            "--- 0.0006151199340820312 seconds ---\n"
          ]
        }
      ]
    },
    {
      "cell_type": "code",
      "source": [
        "print(\"distributed time:    \",dc_time )\n",
        "print(\"single compute time: \", sc_time)"
      ],
      "metadata": {
        "colab": {
          "base_uri": "https://localhost:8080/"
        },
        "id": "ZnoFTxeWUygM",
        "outputId": "18f06f99-c603-4c85-9d4d-c777e10849b2"
      },
      "execution_count": 17,
      "outputs": [
        {
          "output_type": "stream",
          "name": "stdout",
          "text": [
            "distributed time:     1.082019329071045\n",
            "single compute time:  0.0008859634399414062\n"
          ]
        }
      ]
    }
  ]
}